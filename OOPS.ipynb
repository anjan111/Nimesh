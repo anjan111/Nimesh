{
 "cells": [
  {
   "cell_type": "markdown",
   "metadata": {},
   "source": [
    "#### OOP \n",
    "\n",
    "---->> If a programming Language is having the following features\n",
    "\n",
    "1. Inheritance\n",
    "\n",
    "2. Polymorphisim\n",
    "\n",
    "3. Method Overriddging  \n",
    "\n",
    "4. Methode Overloading \n",
    "\n",
    "5. Operator Overloading / Overridding \n",
    "\n",
    "6. Data Hiding /  Encapulation\n",
    "\n",
    "\n",
    "####  OOP components\n",
    "\n",
    "---> Class\n",
    "\n",
    "---> Object\n",
    "\n",
    "---> Methods \n",
    "\n",
    "\n",
    "#### Class \n",
    "\n",
    "==>>  Logical entity for any physical entity\n",
    "\n",
    "==>>  Imagination of an object\n",
    "\n",
    "==>> Its a structure for an object\n",
    "\n",
    "==>> We don't required the space\n",
    "\n",
    "==>> we can create the multiple objects with single class\n",
    "\n",
    "==>> class is keyword  , we can create / define the class"
   ]
  },
  {
   "cell_type": "code",
   "execution_count": 1,
   "metadata": {},
   "outputs": [],
   "source": [
    "#### class syntax\n",
    "\n",
    "class Class_name():\n",
    "    '''\n",
    "    attributes are\n",
    "    methods \n",
    "    variables\n",
    "    '''\n",
    "    pass"
   ]
  },
  {
   "cell_type": "code",
   "execution_count": null,
   "metadata": {},
   "outputs": [],
   "source": [
    "# function is ifself its object ( memory) ---> it can  do only one task\n",
    "# class is not a object  ( not rquired memory) -> it can define multiple tasks (method)"
   ]
  },
  {
   "cell_type": "markdown",
   "metadata": {},
   "source": [
    "#### object \n",
    "\n",
    "===>>> Its a physical entity for a class \n",
    "\n",
    "---> calling a class and assign to one variable then that variable is an object"
   ]
  },
  {
   "cell_type": "code",
   "execution_count": 7,
   "metadata": {},
   "outputs": [
    {
     "name": "stdout",
     "output_type": "stream",
     "text": [
      "latha Student Information\n",
      "None\n",
      "None\n",
      "None\n",
      "pallavi  Student Information\n",
      "None\n",
      "None\n",
      "None\n",
      "latha Student Information\n",
      "123\n",
      "27\n",
      "AI\n",
      "pallavi  Student Information\n",
      "None\n",
      "None\n",
      "None\n"
     ]
    }
   ],
   "source": [
    "class Student():\n",
    "    r_id  = None\n",
    "    age   = None\n",
    "    clas  = None\n",
    "\n",
    "latha  = Student()  # latha is an object\n",
    "print(\"latha Student Information\")\n",
    "print(latha.r_id)\n",
    "print(latha.age)\n",
    "print(latha.clas)\n",
    "\n",
    "pallavi  = Student()  # pallavi is an object\n",
    "print(\"pallavi  Student Information\")\n",
    "print(pallavi .r_id)\n",
    "print(pallavi .age)\n",
    "print(pallavi .clas)\n",
    "latha.r_id = 123\n",
    "latha.age =  27\n",
    "latha.clas = 'AI'\n",
    "\n",
    "print(\"latha Student Information\")\n",
    "print(latha.r_id)\n",
    "print(latha.age)\n",
    "print(latha.clas)\n",
    "\n",
    "pallavi  = Student()  # pallavi is an object\n",
    "print(\"pallavi  Student Information\")\n",
    "print(pallavi .r_id)\n",
    "print(pallavi .age)\n",
    "print(pallavi .clas)"
   ]
  },
  {
   "cell_type": "code",
   "execution_count": 1,
   "metadata": {},
   "outputs": [
    {
     "name": "stdout",
     "output_type": "stream",
     "text": [
      "+++++++++++++++ obj1 data : +++++++++++++\n",
      "data1\n",
      "data2\n",
      "+++++++++++++++ obj2 data : +++++++++++++\n",
      "data1\n",
      "data2\n",
      "modify the obj2 attributes data\n",
      "+++++++++++++++ obj1 data : +++++++++++++\n",
      "data1\n",
      "data2\n",
      "+++++++++++++++ obj2 data : +++++++++++++\n",
      "this is new updated data for attr1\n",
      "this is new updated data for attr2\n"
     ]
    }
   ],
   "source": [
    "# i am creating a Class_name  is a class\n",
    "class Class_name:\n",
    "    attr1 = \"data1\"\n",
    "    attr2 = \"data2\"\n",
    "\n",
    "obj1 = Class_name()  # obj1 is created by Class_name class\n",
    "obj2 = Class_name() # obj2 is created by Class_name class\n",
    "\n",
    "print(\"+++++++++++++++ obj1 data : +++++++++++++\")\n",
    "print(obj1.attr1)\n",
    "print(obj1.attr2)\n",
    "print(\"+++++++++++++++ obj2 data : +++++++++++++\")\n",
    "print(obj2.attr1)\n",
    "print(obj2.attr2)\n",
    "print(\"modify the obj2 attributes data\")\n",
    "obj2.attr1 = 'this is new updated data for attr1'\n",
    "obj2.attr2 = 'this is new updated data for attr2'\n",
    "print(\"+++++++++++++++ obj1 data : +++++++++++++\")\n",
    "print(obj1.attr1)\n",
    "print(obj1.attr2)\n",
    "print(\"+++++++++++++++ obj2 data : +++++++++++++\")\n",
    "print(obj2.attr1)\n",
    "print(obj2.attr2)"
   ]
  },
  {
   "cell_type": "code",
   "execution_count": 3,
   "metadata": {},
   "outputs": [
    {
     "name": "stdout",
     "output_type": "stream",
     "text": [
      "i am function \n",
      "i defined by you outside of the class\n"
     ]
    },
    {
     "ename": "NameError",
     "evalue": "name 'method_name' is not defined",
     "output_type": "error",
     "traceback": [
      "\u001b[1;31m---------------------------------------------------------------------------\u001b[0m",
      "\u001b[1;31mNameError\u001b[0m                                 Traceback (most recent call last)",
      "\u001b[1;32m<ipython-input-3-256bac3156f1>\u001b[0m in \u001b[0;36m<module>\u001b[1;34m\u001b[0m\n\u001b[0;32m     16\u001b[0m \u001b[1;33m\u001b[0m\u001b[0m\n\u001b[0;32m     17\u001b[0m \u001b[0mfun_name\u001b[0m\u001b[1;33m(\u001b[0m\u001b[1;33m)\u001b[0m\u001b[1;33m\u001b[0m\u001b[1;33m\u001b[0m\u001b[0m\n\u001b[1;32m---> 18\u001b[1;33m \u001b[0mmethod_name\u001b[0m\u001b[1;33m(\u001b[0m\u001b[1;33m)\u001b[0m\u001b[1;33m\u001b[0m\u001b[1;33m\u001b[0m\u001b[0m\n\u001b[0m",
      "\u001b[1;31mNameError\u001b[0m: name 'method_name' is not defined"
     ]
    }
   ],
   "source": [
    "# methods \n",
    "'''\n",
    "The functions inside of the class is called method\n",
    "'''\n",
    "# functions are defined outside the class , if you want use it you can directly call\n",
    "# methods are defined inside the class , if you want to call the method from object we have to call\n",
    "\n",
    "def fun_name():\n",
    "    print(\"i am function \")\n",
    "    print(\"i defined by you outside of the class\")\n",
    "\n",
    "class Class_name:\n",
    "    def method_name():\n",
    "        print(\"i am method \")\n",
    "        print(\"i defined by you inside of the class\")\n",
    "\n",
    "fun_name()\n",
    "method_name()  # method call "
   ]
  },
  {
   "cell_type": "code",
   "execution_count": 4,
   "metadata": {},
   "outputs": [
    {
     "name": "stdout",
     "output_type": "stream",
     "text": [
      "i am function \n",
      "i defined by you outside of the class\n"
     ]
    },
    {
     "ename": "TypeError",
     "evalue": "method_name() takes 0 positional arguments but 1 was given",
     "output_type": "error",
     "traceback": [
      "\u001b[1;31m---------------------------------------------------------------------------\u001b[0m",
      "\u001b[1;31mTypeError\u001b[0m                                 Traceback (most recent call last)",
      "\u001b[1;32m<ipython-input-4-18760bdf384e>\u001b[0m in \u001b[0;36m<module>\u001b[1;34m\u001b[0m\n\u001b[0;32m     10\u001b[0m \u001b[0mfun_name\u001b[0m\u001b[1;33m(\u001b[0m\u001b[1;33m)\u001b[0m  \u001b[1;31m# function call\u001b[0m\u001b[1;33m\u001b[0m\u001b[1;33m\u001b[0m\u001b[0m\n\u001b[0;32m     11\u001b[0m \u001b[0mobj\u001b[0m \u001b[1;33m=\u001b[0m \u001b[0mClass_name\u001b[0m\u001b[1;33m(\u001b[0m\u001b[1;33m)\u001b[0m\u001b[1;33m\u001b[0m\u001b[1;33m\u001b[0m\u001b[0m\n\u001b[1;32m---> 12\u001b[1;33m \u001b[0mobj\u001b[0m\u001b[1;33m.\u001b[0m\u001b[0mmethod_name\u001b[0m\u001b[1;33m(\u001b[0m\u001b[1;33m)\u001b[0m \u001b[1;31m# method call\u001b[0m\u001b[1;33m\u001b[0m\u001b[1;33m\u001b[0m\u001b[0m\n\u001b[0m",
      "\u001b[1;31mTypeError\u001b[0m: method_name() takes 0 positional arguments but 1 was given"
     ]
    }
   ],
   "source": [
    "def fun_name():\n",
    "    print(\"i am function \")\n",
    "    print(\"i defined by you outside of the class\")\n",
    "\n",
    "class Class_name:\n",
    "    def method_name():\n",
    "        print(\"i am method \")\n",
    "        print(\"i defined by you inside of the class\")\n",
    "\n",
    "fun_name()  # function call\n",
    "obj = Class_name()\n",
    "obj.method_name() # method call"
   ]
  },
  {
   "cell_type": "code",
   "execution_count": 5,
   "metadata": {},
   "outputs": [
    {
     "name": "stdout",
     "output_type": "stream",
     "text": [
      "i am function \n",
      "i defined by you outside of the class\n",
      "i am method \n",
      "i defined by you inside of the class\n"
     ]
    }
   ],
   "source": [
    "def fun_name():\n",
    "    print(\"i am function \")\n",
    "    print(\"i defined by you outside of the class\")\n",
    "\n",
    "class Class_name:\n",
    "    def method_name(self):\n",
    "        print(\"i am method \")\n",
    "        print(\"i defined by you inside of the class\")\n",
    "\n",
    "fun_name()  # function call\n",
    "obj = Class_name()\n",
    "obj.method_name() # method call"
   ]
  },
  {
   "cell_type": "code",
   "execution_count": 7,
   "metadata": {},
   "outputs": [
    {
     "name": "stdout",
     "output_type": "stream",
     "text": [
      "i am constructor\n",
      "object is created\n",
      "User defined meythod\n",
      "i am destructor\n",
      "object is deleted\n"
     ]
    }
   ],
   "source": [
    "# special methods \n",
    "'''\n",
    "===>>> just defined the some methods\n",
    "===>>> Those methods are called automatically\n",
    "\n",
    "1. Constructor  ---> When object is created then constructor method can call\n",
    "'''\n",
    "class Class_name():\n",
    "    def __init__(self):\n",
    "        print(\"i am constructor\")\n",
    "        print(\"object is created\")\n",
    "    def __del__(self):\n",
    "        print(\"i am destructor\")\n",
    "        print(\"object is deleted\")\n",
    "    def method(self):\n",
    "        print(\"User defined meythod\")\n",
    "\n",
    "obj = Class_name()  # constructor\n",
    "obj.method() # user defined method call\n",
    "del obj  # destructor"
   ]
  },
  {
   "cell_type": "code",
   "execution_count": 8,
   "metadata": {},
   "outputs": [
    {
     "name": "stdout",
     "output_type": "stream",
     "text": [
      "i am constructor\n",
      "object is created\n",
      "**********\n",
      "i am constructor\n",
      "object is created\n",
      "**********\n",
      "i am constructor\n",
      "object is created\n",
      "**********\n",
      "i am constructor\n",
      "object is created\n",
      "**********\n"
     ]
    }
   ],
   "source": [
    "class Class_name():\n",
    "    def __init__(self):\n",
    "        print(\"i am constructor\")\n",
    "        print(\"object is created\")\n",
    "    def __del__(self):\n",
    "        print(\"i am destructor\")\n",
    "        print(\"object is deleted\")\n",
    "    def method(self):\n",
    "        print(\"User defined meythod\")\n",
    "\n",
    "obj1 = Class_name()  # constructor\n",
    "print(\"**********\")\n",
    "obj2 = Class_name()  # constructor\n",
    "print(\"**********\")\n",
    "obj3 = Class_name()  # constructor\n",
    "print(\"**********\")\n",
    "obj4 = Class_name()  # constructor\n",
    "print(\"**********\")"
   ]
  },
  {
   "cell_type": "code",
   "execution_count": 9,
   "metadata": {},
   "outputs": [
    {
     "name": "stdout",
     "output_type": "stream",
     "text": [
      "v1 :  123\n"
     ]
    },
    {
     "ename": "NameError",
     "evalue": "name 'v1' is not defined",
     "output_type": "error",
     "traceback": [
      "\u001b[1;31m---------------------------------------------------------------------------\u001b[0m",
      "\u001b[1;31mNameError\u001b[0m                                 Traceback (most recent call last)",
      "\u001b[1;32m<ipython-input-9-221122868fa2>\u001b[0m in \u001b[0;36m<module>\u001b[1;34m\u001b[0m\n\u001b[0;32m      7\u001b[0m     \u001b[0mprint\u001b[0m\u001b[1;33m(\u001b[0m\u001b[1;34m\"v1 : \"\u001b[0m\u001b[1;33m,\u001b[0m\u001b[0mv1\u001b[0m\u001b[1;33m)\u001b[0m\u001b[1;33m\u001b[0m\u001b[1;33m\u001b[0m\u001b[0m\n\u001b[0;32m      8\u001b[0m \u001b[0mfun1\u001b[0m\u001b[1;33m(\u001b[0m\u001b[1;33m)\u001b[0m\u001b[1;33m\u001b[0m\u001b[1;33m\u001b[0m\u001b[0m\n\u001b[1;32m----> 9\u001b[1;33m \u001b[0mfun2\u001b[0m\u001b[1;33m(\u001b[0m\u001b[1;33m)\u001b[0m\u001b[1;33m\u001b[0m\u001b[1;33m\u001b[0m\u001b[0m\n\u001b[0m",
      "\u001b[1;32m<ipython-input-9-221122868fa2>\u001b[0m in \u001b[0;36mfun2\u001b[1;34m()\u001b[0m\n\u001b[0;32m      5\u001b[0m     \u001b[0mprint\u001b[0m\u001b[1;33m(\u001b[0m\u001b[1;34m\"v1 : \"\u001b[0m\u001b[1;33m,\u001b[0m\u001b[0mv1\u001b[0m\u001b[1;33m)\u001b[0m\u001b[1;33m\u001b[0m\u001b[1;33m\u001b[0m\u001b[0m\n\u001b[0;32m      6\u001b[0m \u001b[1;32mdef\u001b[0m \u001b[0mfun2\u001b[0m\u001b[1;33m(\u001b[0m\u001b[1;33m)\u001b[0m\u001b[1;33m:\u001b[0m\u001b[1;33m\u001b[0m\u001b[1;33m\u001b[0m\u001b[0m\n\u001b[1;32m----> 7\u001b[1;33m     \u001b[0mprint\u001b[0m\u001b[1;33m(\u001b[0m\u001b[1;34m\"v1 : \"\u001b[0m\u001b[1;33m,\u001b[0m\u001b[0mv1\u001b[0m\u001b[1;33m)\u001b[0m\u001b[1;33m\u001b[0m\u001b[1;33m\u001b[0m\u001b[0m\n\u001b[0m\u001b[0;32m      8\u001b[0m \u001b[0mfun1\u001b[0m\u001b[1;33m(\u001b[0m\u001b[1;33m)\u001b[0m\u001b[1;33m\u001b[0m\u001b[1;33m\u001b[0m\u001b[0m\n\u001b[0;32m      9\u001b[0m \u001b[0mfun2\u001b[0m\u001b[1;33m(\u001b[0m\u001b[1;33m)\u001b[0m\u001b[1;33m\u001b[0m\u001b[1;33m\u001b[0m\u001b[0m\n",
      "\u001b[1;31mNameError\u001b[0m: name 'v1' is not defined"
     ]
    }
   ],
   "source": [
    "# self  ---> 1st argument of any method  --> holding object information\n",
    "\n",
    "def fun1():\n",
    "    v1 = 123  # local variable for fun1\n",
    "    print(\"v1 : \",v1)\n",
    "def fun2():\n",
    "    print(\"v1 : \",v1) # we can' taccess the local variable fun1\n",
    "fun1()\n",
    "fun2()"
   ]
  },
  {
   "cell_type": "code",
   "execution_count": 10,
   "metadata": {},
   "outputs": [
    {
     "name": "stdout",
     "output_type": "stream",
     "text": [
      "v1 in met1 :  45\n",
      "v1 in met1 :  45\n"
     ]
    }
   ],
   "source": [
    "class Class_name():\n",
    "    def met1(self):\n",
    "        self.v1 = 45\n",
    "        print(\"v1 in met1 : \",self.v1)\n",
    "    def met2(self):\n",
    "        print(\"v1 in met1 : \",self.v1)\n",
    "obj = Class_name()\n",
    "obj.met1()\n",
    "obj.met2()"
   ]
  },
  {
   "cell_type": "code",
   "execution_count": 12,
   "metadata": {},
   "outputs": [
    {
     "name": "stdout",
     "output_type": "stream",
     "text": [
      "v1 in met1 :  45\n",
      "v1 in met1 :  45\n",
      "a :  12\n"
     ]
    }
   ],
   "source": [
    "class Class_name():\n",
    "    def met1(self,a,b):\n",
    "        self.v1 = 45\n",
    "        print(\"v1 in met1 : \",self.v1)\n",
    "        self.a = a\n",
    "        self.b = b\n",
    "    def met2(self,x,y,z):\n",
    "        print(\"v1 in met1 : \",self.v1)\n",
    "        self.x = x\n",
    "        self.y = y\n",
    "        self.z = z\n",
    "        print(\"a : \",self.a)\n",
    "        \n",
    "obj = Class_name()\n",
    "obj.met1(12,20)\n",
    "obj.met2(10,20,10)"
   ]
  },
  {
   "cell_type": "code",
   "execution_count": 1,
   "metadata": {},
   "outputs": [
    {
     "name": "stdout",
     "output_type": "stream",
     "text": [
      "None\n",
      "None\n"
     ]
    },
    {
     "ename": "AttributeError",
     "evalue": "'Student' object has no attribute '__age'",
     "output_type": "error",
     "traceback": [
      "\u001b[1;31m---------------------------------------------------------------------------\u001b[0m",
      "\u001b[1;31mAttributeError\u001b[0m                            Traceback (most recent call last)",
      "\u001b[1;32m<ipython-input-1-043c4fbc3cbf>\u001b[0m in \u001b[0;36m<module>\u001b[1;34m\u001b[0m\n\u001b[0;32m      8\u001b[0m \u001b[0mprint\u001b[0m\u001b[1;33m(\u001b[0m\u001b[0mstd1\u001b[0m\u001b[1;33m.\u001b[0m\u001b[0mname\u001b[0m\u001b[1;33m)\u001b[0m \u001b[1;31m# None\u001b[0m\u001b[1;33m\u001b[0m\u001b[1;33m\u001b[0m\u001b[0m\n\u001b[0;32m      9\u001b[0m \u001b[0mprint\u001b[0m\u001b[1;33m(\u001b[0m\u001b[0mstd1\u001b[0m\u001b[1;33m.\u001b[0m\u001b[0m_id\u001b[0m\u001b[1;33m)\u001b[0m  \u001b[1;31m# None\u001b[0m\u001b[1;33m\u001b[0m\u001b[1;33m\u001b[0m\u001b[0m\n\u001b[1;32m---> 10\u001b[1;33m \u001b[0mprint\u001b[0m\u001b[1;33m(\u001b[0m\u001b[0mstd1\u001b[0m\u001b[1;33m.\u001b[0m\u001b[0m__age\u001b[0m\u001b[1;33m)\u001b[0m\u001b[1;31m# An error\u001b[0m\u001b[1;33m\u001b[0m\u001b[1;33m\u001b[0m\u001b[0m\n\u001b[0m",
      "\u001b[1;31mAttributeError\u001b[0m: 'Student' object has no attribute '__age'"
     ]
    }
   ],
   "source": [
    "# data hiding  ---> data as private  --> data can't access \n",
    "\n",
    "class Student:\n",
    "    name   = None # public data\n",
    "    _id    = None # public data\n",
    "    __age  = None # private data\n",
    "std1 = Student()\n",
    "print(std1.name) # None\n",
    "print(std1._id)  # None\n",
    "print(std1.__age)# An error"
   ]
  },
  {
   "cell_type": "code",
   "execution_count": 10,
   "metadata": {},
   "outputs": [
    {
     "name": "stdout",
     "output_type": "stream",
     "text": [
      "None\n",
      "None\n",
      "None\n"
     ]
    }
   ],
   "source": [
    "# data hiding  ---> data as private  --> data can't access \n",
    "\n",
    "class Student:\n",
    "    name   = None # public data\n",
    "    _id    = None # public data\n",
    "    __age  = None # private data\n",
    "    def get_data(self):\n",
    "        print(self.name) # None\n",
    "        print(self._id)  # None\n",
    "        print(self.__age)# An error\n",
    "std1 = Student()\n",
    "std1.get_data()\n"
   ]
  },
  {
   "cell_type": "code",
   "execution_count": 3,
   "metadata": {},
   "outputs": [
    {
     "name": "stdout",
     "output_type": "stream",
     "text": [
      "None\n",
      "None\n",
      "None\n"
     ]
    }
   ],
   "source": [
    "# data encapulation  ---> data as private  --> we can access the private data\n",
    "\n",
    "class Student:\n",
    "    name   = None # public data\n",
    "    _id    = None # public data\n",
    "    __age  = None # private data\n",
    "std1 = Student()\n",
    "print(std1.name) # None\n",
    "print(std1._id)  # None\n",
    "print(std1._Student__age)# data encapulation"
   ]
  },
  {
   "cell_type": "code",
   "execution_count": 4,
   "metadata": {},
   "outputs": [
    {
     "name": "stdout",
     "output_type": "stream",
     "text": [
      "bye\n",
      "bye\n"
     ]
    }
   ],
   "source": [
    "# method method overidding \n",
    "class Class_name():\n",
    "    def method(self):\n",
    "        print(\"hai\")\n",
    "    def method(self):\n",
    "        print(\"bye\")\n",
    "obj =  Class_name()\n",
    "obj.method()\n",
    "obj.method()"
   ]
  },
  {
   "cell_type": "code",
   "execution_count": 5,
   "metadata": {},
   "outputs": [
    {
     "name": "stdout",
     "output_type": "stream",
     "text": [
      "bye\n"
     ]
    },
    {
     "ename": "TypeError",
     "evalue": "method() missing 1 required positional argument: 'a'",
     "output_type": "error",
     "traceback": [
      "\u001b[1;31m---------------------------------------------------------------------------\u001b[0m",
      "\u001b[1;31mTypeError\u001b[0m                                 Traceback (most recent call last)",
      "\u001b[1;32m<ipython-input-5-15bbde1b15f7>\u001b[0m in \u001b[0;36m<module>\u001b[1;34m\u001b[0m\n\u001b[0;32m      7\u001b[0m \u001b[0mobj\u001b[0m \u001b[1;33m=\u001b[0m  \u001b[0mClass_name\u001b[0m\u001b[1;33m(\u001b[0m\u001b[1;33m)\u001b[0m\u001b[1;33m\u001b[0m\u001b[1;33m\u001b[0m\u001b[0m\n\u001b[0;32m      8\u001b[0m \u001b[0mobj\u001b[0m\u001b[1;33m.\u001b[0m\u001b[0mmethod\u001b[0m\u001b[1;33m(\u001b[0m\u001b[1;36m10\u001b[0m\u001b[1;33m)\u001b[0m\u001b[1;33m\u001b[0m\u001b[1;33m\u001b[0m\u001b[0m\n\u001b[1;32m----> 9\u001b[1;33m \u001b[0mobj\u001b[0m\u001b[1;33m.\u001b[0m\u001b[0mmethod\u001b[0m\u001b[1;33m(\u001b[0m\u001b[1;33m)\u001b[0m\u001b[1;33m\u001b[0m\u001b[1;33m\u001b[0m\u001b[0m\n\u001b[0m",
      "\u001b[1;31mTypeError\u001b[0m: method() missing 1 required positional argument: 'a'"
     ]
    }
   ],
   "source": [
    "# method method overloading not supported\n",
    "class Class_name():\n",
    "    def method(self):\n",
    "        print(\"hai\")\n",
    "    def method(self,a):\n",
    "        print(\"bye\")\n",
    "obj =  Class_name()\n",
    "obj.method(10)\n",
    "obj.method()"
   ]
  },
  {
   "cell_type": "code",
   "execution_count": 6,
   "metadata": {},
   "outputs": [
    {
     "name": "stdout",
     "output_type": "stream",
     "text": [
      "bye\n",
      "bye\n"
     ]
    }
   ],
   "source": [
    "# method method overloading is not supported  / polymorphism also not supported\n",
    "class Class_name():\n",
    "    def method(self):\n",
    "        print(\"hai\")\n",
    "    def method(self,a=None):\n",
    "        print(\"bye\")\n",
    "obj =  Class_name()\n",
    "obj.method(10)\n",
    "obj.method()"
   ]
  },
  {
   "cell_type": "code",
   "execution_count": 7,
   "metadata": {},
   "outputs": [
    {
     "name": "stdout",
     "output_type": "stream",
     "text": [
      "i am task1 from derivared  class\n"
     ]
    },
    {
     "ename": "AttributeError",
     "evalue": "'Derived_class' object has no attribute 'task1'",
     "output_type": "error",
     "traceback": [
      "\u001b[1;31m---------------------------------------------------------------------------\u001b[0m",
      "\u001b[1;31mAttributeError\u001b[0m                            Traceback (most recent call last)",
      "\u001b[1;32m<ipython-input-7-7a1a2d0a4ade>\u001b[0m in \u001b[0;36m<module>\u001b[1;34m\u001b[0m\n\u001b[0;32m      9\u001b[0m \u001b[0mobj\u001b[0m \u001b[1;33m=\u001b[0m   \u001b[0mDerived_class\u001b[0m\u001b[1;33m(\u001b[0m\u001b[1;33m)\u001b[0m\u001b[1;33m\u001b[0m\u001b[1;33m\u001b[0m\u001b[0m\n\u001b[0;32m     10\u001b[0m \u001b[0mobj\u001b[0m\u001b[1;33m.\u001b[0m\u001b[0mtask2\u001b[0m\u001b[1;33m(\u001b[0m\u001b[1;33m)\u001b[0m\u001b[1;33m\u001b[0m\u001b[1;33m\u001b[0m\u001b[0m\n\u001b[1;32m---> 11\u001b[1;33m \u001b[0mobj\u001b[0m\u001b[1;33m.\u001b[0m\u001b[0mtask1\u001b[0m\u001b[1;33m(\u001b[0m\u001b[1;33m)\u001b[0m\u001b[1;33m\u001b[0m\u001b[1;33m\u001b[0m\u001b[0m\n\u001b[0m",
      "\u001b[1;31mAttributeError\u001b[0m: 'Derived_class' object has no attribute 'task1'"
     ]
    }
   ],
   "source": [
    "# data inheritance   --> one class  properties ---> another calss\n",
    "\n",
    "class Base_class():\n",
    "    def task1(self):\n",
    "        print(\"i am task1 from base class\")\n",
    "class Derived_class():\n",
    "    def task2(self):\n",
    "        print(\"i am task1 from derivared  class\")\n",
    "obj =   Derived_class()\n",
    "obj.task2()\n",
    "obj.task1()"
   ]
  },
  {
   "cell_type": "code",
   "execution_count": 8,
   "metadata": {},
   "outputs": [
    {
     "name": "stdout",
     "output_type": "stream",
     "text": [
      "i am task1 from derivared  class\n",
      "i am task1 from base class\n"
     ]
    }
   ],
   "source": [
    "# data inheritance   --> one class  properties ---> another calss\n",
    "\n",
    "class Base_class():\n",
    "    def task1(self):\n",
    "        print(\"i am task1 from base class\")\n",
    "class Derived_class(Base_class):\n",
    "    def task2(self):\n",
    "        print(\"i am task1 from derivared  class\")\n",
    "obj =   Derived_class()\n",
    "obj.task2()\n",
    "obj.task1()"
   ]
  },
  {
   "cell_type": "code",
   "execution_count": null,
   "metadata": {},
   "outputs": [],
   "source": []
  }
 ],
 "metadata": {
  "kernelspec": {
   "display_name": "Python 3",
   "language": "python",
   "name": "python3"
  },
  "language_info": {
   "codemirror_mode": {
    "name": "ipython",
    "version": 3
   },
   "file_extension": ".py",
   "mimetype": "text/x-python",
   "name": "python",
   "nbconvert_exporter": "python",
   "pygments_lexer": "ipython3",
   "version": "3.8.3"
  }
 },
 "nbformat": 4,
 "nbformat_minor": 4
}
