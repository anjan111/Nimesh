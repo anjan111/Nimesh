{
 "cells": [
  {
   "cell_type": "code",
   "execution_count": 1,
   "metadata": {},
   "outputs": [],
   "source": [
    "# sqlite3 \n",
    "import sqlite3 as sql\n",
    "database_obj = sql.connect(\"sample.db\") # creating a data bases\n",
    "cur_obj = database_obj.cursor()\n",
    "cur_obj.execute(\"CREATE TABLE employee(id charvar ,  name charvar  , sal  charvar)\")\n",
    "database_obj.close()"
   ]
  },
  {
   "cell_type": "code",
   "execution_count": 4,
   "metadata": {},
   "outputs": [],
   "source": [
    "# sqlite3 \n",
    "import sqlite3 as sql\n",
    "database_obj = sql.connect(\"sample.db\") # creating a data bases\n",
    "cur_obj = database_obj.cursor()\n",
    "cur_obj.execute(\"INSERT INTO  employee VALUES('AIT01','anjan',20000)\")\n",
    "database_obj.close()"
   ]
  },
  {
   "cell_type": "code",
   "execution_count": 7,
   "metadata": {},
   "outputs": [],
   "source": [
    "# sqlite3 \n",
    "import sqlite3 as sql\n",
    "database_obj = sql.connect(\"sample.db\") # creating a data bases\n",
    "cur_obj = database_obj.cursor()\n",
    "cur_obj.execute(\"SELECT * FROM employee\")\n",
    "for record in cur_obj.fetchall():\n",
    "    print(record)\n",
    "database_obj.close()"
   ]
  },
  {
   "cell_type": "code",
   "execution_count": 9,
   "metadata": {},
   "outputs": [],
   "source": [
    "# sqlite3 \n",
    "import sqlite3 as sql\n",
    "database_obj = sql.connect(\"sample.db\") # creating a data bases\n",
    "cur_obj = database_obj.cursor()\n",
    "cur_obj.execute(\"INSERT INTO  employee VALUES('AIT01','anjan',20000)\")\n",
    "database_obj.commit()\n",
    "database_obj.close()"
   ]
  },
  {
   "cell_type": "code",
   "execution_count": 11,
   "metadata": {},
   "outputs": [
    {
     "name": "stdout",
     "output_type": "stream",
     "text": [
      "('AIT01', 'anjan', '20000')\n"
     ]
    }
   ],
   "source": [
    "# sqlite3 \n",
    "import sqlite3 as sql\n",
    "database_obj = sql.connect(\"sample.db\") # creating a data bases\n",
    "cur_obj = database_obj.cursor()\n",
    "cur_obj.execute(\"SELECT * FROM employee\")\n",
    "for record in cur_obj.fetchall():\n",
    "    print(record)\n",
    "database_obj.close()"
   ]
  },
  {
   "cell_type": "code",
   "execution_count": 12,
   "metadata": {},
   "outputs": [],
   "source": [
    "# sqlite3 \n",
    "import sqlite3 as sql\n",
    "database_obj = sql.connect(\"sample.db\") # creating a data bases\n",
    "cur_obj = database_obj.cursor()\n",
    "cur_obj.execute(\"INSERT INTO  employee VALUES('AIT02','shalu',40000)\")\n",
    "database_obj.commit()\n",
    "database_obj.close()"
   ]
  },
  {
   "cell_type": "code",
   "execution_count": 13,
   "metadata": {},
   "outputs": [
    {
     "name": "stdout",
     "output_type": "stream",
     "text": [
      "('AIT01', 'anjan', '20000')\n",
      "('AIT02', 'shalu', '40000')\n"
     ]
    }
   ],
   "source": [
    "# sqlite3 \n",
    "import sqlite3 as sql\n",
    "database_obj = sql.connect(\"sample.db\") # creating a data bases\n",
    "cur_obj = database_obj.cursor()\n",
    "cur_obj.execute(\"SELECT * FROM employee\")\n",
    "for record in cur_obj.fetchall():\n",
    "    print(record)\n",
    "database_obj.close()"
   ]
  },
  {
   "cell_type": "code",
   "execution_count": 14,
   "metadata": {},
   "outputs": [],
   "source": [
    "# sqlite3 \n",
    "import sqlite3 as sql\n",
    "database_obj = sql.connect(\"sample.db\") # creating a data bases\n",
    "cur_obj = database_obj.cursor()\n",
    "cur_obj.execute(\"INSERT INTO  employee VALUES('AIT03','latha',60000)\")\n",
    "database_obj.commit()\n",
    "database_obj.close()"
   ]
  },
  {
   "cell_type": "code",
   "execution_count": 15,
   "metadata": {},
   "outputs": [
    {
     "name": "stdout",
     "output_type": "stream",
     "text": [
      "('AIT01', 'anjan', '20000')\n",
      "('AIT02', 'shalu', '40000')\n",
      "('AIT03', 'latha', '60000')\n"
     ]
    }
   ],
   "source": [
    "# sqlite3 \n",
    "import sqlite3 as sql\n",
    "database_obj = sql.connect(\"sample.db\") # creating a data bases\n",
    "cur_obj = database_obj.cursor()\n",
    "cur_obj.execute(\"SELECT * FROM employee\")\n",
    "for record in cur_obj.fetchall():\n",
    "    print(record)\n",
    "database_obj.close()"
   ]
  },
  {
   "cell_type": "code",
   "execution_count": 17,
   "metadata": {},
   "outputs": [],
   "source": [
    "# sqlite3 \n",
    "import sqlite3 as sql\n",
    "database_obj = sql.connect(\"sample.db\") # creating a data bases\n",
    "cur_obj = database_obj.cursor()\n",
    "cur_obj.execute(\"UPDATE  employee SET id = 'AIT04' WHERE NAME = 'latha' \")\n",
    "database_obj.commit()\n",
    "database_obj.close()"
   ]
  },
  {
   "cell_type": "code",
   "execution_count": 18,
   "metadata": {},
   "outputs": [
    {
     "name": "stdout",
     "output_type": "stream",
     "text": [
      "('AIT01', 'anjan', '20000')\n",
      "('AIT02', 'shalu', '40000')\n",
      "('AIT04', 'latha', '60000')\n"
     ]
    }
   ],
   "source": [
    "# sqlite3 \n",
    "import sqlite3 as sql\n",
    "database_obj = sql.connect(\"sample.db\") # creating a data bases\n",
    "cur_obj = database_obj.cursor()\n",
    "cur_obj.execute(\"SELECT * FROM employee\")\n",
    "for record in cur_obj.fetchall():\n",
    "    print(record)\n",
    "database_obj.close()"
   ]
  },
  {
   "cell_type": "code",
   "execution_count": 19,
   "metadata": {},
   "outputs": [],
   "source": [
    "# sqlite3 \n",
    "import sqlite3 as sql\n",
    "database_obj = sql.connect(\"sample.db\") # creating a data bases\n",
    "cur_obj = database_obj.cursor()\n",
    "cur_obj.execute(\"DELETE from  employee  WHERE NAME = 'latha' \")\n",
    "database_obj.commit()\n",
    "database_obj.close()"
   ]
  },
  {
   "cell_type": "code",
   "execution_count": 20,
   "metadata": {},
   "outputs": [
    {
     "name": "stdout",
     "output_type": "stream",
     "text": [
      "('AIT01', 'anjan', '20000')\n",
      "('AIT02', 'shalu', '40000')\n"
     ]
    }
   ],
   "source": [
    "# sqlite3 \n",
    "import sqlite3 as sql\n",
    "database_obj = sql.connect(\"sample.db\") # creating a data bases\n",
    "cur_obj = database_obj.cursor()\n",
    "cur_obj.execute(\"SELECT * FROM employee\")\n",
    "for record in cur_obj.fetchall():\n",
    "    print(record)\n",
    "database_obj.close()"
   ]
  },
  {
   "cell_type": "code",
   "execution_count": 21,
   "metadata": {},
   "outputs": [
    {
     "name": "stdout",
     "output_type": "stream",
     "text": [
      "('AIT01', 'anjan', '20000')\n",
      "('AIT02', 'shalu', '40000')\n"
     ]
    }
   ],
   "source": [
    "# sqlite3 \n",
    "import sqlite3 as sql\n",
    "database_obj = sql.connect(\"sample.db\") # creating a data bases\n",
    "cur_obj = database_obj.cursor()\n",
    "cur_obj.execute(\"SELECT * FROM employee\")\n",
    "for record in cur_obj.fetchall():\n",
    "    print(record)\n",
    "cur_obj.close()"
   ]
  },
  {
   "cell_type": "code",
   "execution_count": 22,
   "metadata": {},
   "outputs": [
    {
     "name": "stdout",
     "output_type": "stream",
     "text": [
      "('AIT01', 'anjan', '20000')\n",
      "('AIT02', 'shalu', '40000')\n"
     ]
    }
   ],
   "source": [
    "cur_obj = database_obj.cursor()\n",
    "cur_obj.execute(\"SELECT * FROM employee\")\n",
    "for record in cur_obj.fetchall():\n",
    "    print(record)\n",
    "cur_obj.close()"
   ]
  },
  {
   "cell_type": "code",
   "execution_count": 23,
   "metadata": {},
   "outputs": [
    {
     "name": "stdout",
     "output_type": "stream",
     "text": [
      "('AIT01', 'anjan', '20000')\n",
      "('AIT02', 'shalu', '40000')\n"
     ]
    }
   ],
   "source": [
    "# sqlite3 \n",
    "import sqlite3 as sql\n",
    "database_obj = sql.connect(\"sample.db\") # creating a data bases\n",
    "cur_obj = database_obj.cursor()\n",
    "cur_obj.execute(\"SELECT * FROM employee\")\n",
    "for record in cur_obj.fetchall():\n",
    "    print(record)\n",
    "database_obj.close()"
   ]
  },
  {
   "cell_type": "code",
   "execution_count": 24,
   "metadata": {},
   "outputs": [
    {
     "ename": "ProgrammingError",
     "evalue": "Cannot operate on a closed database.",
     "output_type": "error",
     "traceback": [
      "\u001b[1;31m---------------------------------------------------------------------------\u001b[0m",
      "\u001b[1;31mProgrammingError\u001b[0m                          Traceback (most recent call last)",
      "\u001b[1;32m<ipython-input-24-8c1f359eb980>\u001b[0m in \u001b[0;36m<module>\u001b[1;34m\u001b[0m\n\u001b[1;32m----> 1\u001b[1;33m \u001b[0mcur_obj\u001b[0m \u001b[1;33m=\u001b[0m \u001b[0mdatabase_obj\u001b[0m\u001b[1;33m.\u001b[0m\u001b[0mcursor\u001b[0m\u001b[1;33m(\u001b[0m\u001b[1;33m)\u001b[0m\u001b[1;33m\u001b[0m\u001b[1;33m\u001b[0m\u001b[0m\n\u001b[0m\u001b[0;32m      2\u001b[0m \u001b[0mcur_obj\u001b[0m\u001b[1;33m.\u001b[0m\u001b[0mexecute\u001b[0m\u001b[1;33m(\u001b[0m\u001b[1;34m\"SELECT * FROM employee\"\u001b[0m\u001b[1;33m)\u001b[0m\u001b[1;33m\u001b[0m\u001b[1;33m\u001b[0m\u001b[0m\n\u001b[0;32m      3\u001b[0m \u001b[1;32mfor\u001b[0m \u001b[0mrecord\u001b[0m \u001b[1;32min\u001b[0m \u001b[0mcur_obj\u001b[0m\u001b[1;33m.\u001b[0m\u001b[0mfetchall\u001b[0m\u001b[1;33m(\u001b[0m\u001b[1;33m)\u001b[0m\u001b[1;33m:\u001b[0m\u001b[1;33m\u001b[0m\u001b[1;33m\u001b[0m\u001b[0m\n\u001b[0;32m      4\u001b[0m     \u001b[0mprint\u001b[0m\u001b[1;33m(\u001b[0m\u001b[0mrecord\u001b[0m\u001b[1;33m)\u001b[0m\u001b[1;33m\u001b[0m\u001b[1;33m\u001b[0m\u001b[0m\n",
      "\u001b[1;31mProgrammingError\u001b[0m: Cannot operate on a closed database."
     ]
    }
   ],
   "source": [
    "cur_obj = database_obj.cursor()\n",
    "cur_obj.execute(\"SELECT * FROM employee\")\n",
    "for record in cur_obj.fetchall():\n",
    "    print(record)"
   ]
  },
  {
   "cell_type": "code",
   "execution_count": null,
   "metadata": {},
   "outputs": [],
   "source": []
  }
 ],
 "metadata": {
  "kernelspec": {
   "display_name": "Python 3",
   "language": "python",
   "name": "python3"
  },
  "language_info": {
   "codemirror_mode": {
    "name": "ipython",
    "version": 3
   },
   "file_extension": ".py",
   "mimetype": "text/x-python",
   "name": "python",
   "nbconvert_exporter": "python",
   "pygments_lexer": "ipython3",
   "version": "3.8.3"
  }
 },
 "nbformat": 4,
 "nbformat_minor": 4
}
