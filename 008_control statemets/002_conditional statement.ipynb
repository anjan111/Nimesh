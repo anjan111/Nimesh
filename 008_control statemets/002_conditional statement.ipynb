{
 "cells": [
  {
   "cell_type": "markdown",
   "metadata": {},
   "source": [
    "# simple if  ---> if keyword\n",
    "\n",
    "===>>> syntax\n",
    "\n",
    "start\n",
    "\n",
    "-----\n",
    "\n",
    "-----\n",
    "\n",
    "if(cond) :\n",
    "    \n",
    "    -------\n",
    "    \n",
    "    -------\n",
    "    \n",
    "stop\n",
    "\n",
    "----\n",
    "\n"
   ]
  },
  {
   "cell_type": "code",
   "execution_count": 1,
   "metadata": {},
   "outputs": [
    {
     "name": "stdout",
     "output_type": "stream",
     "text": [
      "enter side of sqaure in meters : 12\n",
      "Task Over\n"
     ]
    }
   ],
   "source": [
    "# wap for finding the area of sqaure when side is diviable by 5\n",
    "side = input(\"enter side of sqaure in meters : \")\n",
    "side = int(side)\n",
    "if( side % 5 == 0):\n",
    "    area = side ** 2  # side  * side\n",
    "    print(\"area of sqaure  : \",area,\" sq.meters\")\n",
    "print(\"Task Over\")    "
   ]
  },
  {
   "cell_type": "code",
   "execution_count": 2,
   "metadata": {},
   "outputs": [
    {
     "name": "stdout",
     "output_type": "stream",
     "text": [
      "enter side of sqaure in meters : 20\n",
      "area of sqaure  :  400  sq.meters\n",
      "Task Over\n"
     ]
    }
   ],
   "source": [
    "# wap for finding the area of sqaure when side is diviable by 5\n",
    "side = input(\"enter side of sqaure in meters : \")\n",
    "side = int(side)\n",
    "if( side % 5 == 0):\n",
    "    area = side ** 2  # side  * side\n",
    "    print(\"area of sqaure  : \",area,\" sq.meters\")\n",
    "print(\"Task Over\")    "
   ]
  },
  {
   "cell_type": "code",
   "execution_count": null,
   "metadata": {},
   "outputs": [],
   "source": [
    "# wap print even if and only if given number is even"
   ]
  },
  {
   "cell_type": "code",
   "execution_count": 1,
   "metadata": {},
   "outputs": [
    {
     "name": "stdout",
     "output_type": "stream",
     "text": [
      "enter num : 23\n",
      "23  is odd\n",
      "Task Over\n"
     ]
    }
   ],
   "source": [
    "# if and else\n",
    "# wap print given number even or odd\n",
    "\n",
    "num = input(\"enter num : \")\n",
    "num = int(num)\n",
    "if( num % 2 == 0):\n",
    "    print(num , \" is even\")\n",
    "else:\n",
    "    print(num , \" is odd\")\n",
    "print(\"Task Over\")"
   ]
  },
  {
   "cell_type": "code",
   "execution_count": 2,
   "metadata": {},
   "outputs": [
    {
     "name": "stdout",
     "output_type": "stream",
     "text": [
      "enter num : 24\n",
      "24  is even\n",
      "Task Over\n"
     ]
    }
   ],
   "source": [
    "# if and else\n",
    "# wap print given number even or odd\n",
    "\n",
    "num = input(\"enter num : \")\n",
    "num = int(num)\n",
    "if( num % 2 == 0):\n",
    "    print(num , \" is even\")\n",
    "else:\n",
    "    print(num , \" is odd\")\n",
    "print(\"Task Over\")"
   ]
  },
  {
   "cell_type": "code",
   "execution_count": 4,
   "metadata": {},
   "outputs": [
    {
     "name": "stdout",
     "output_type": "stream",
     "text": [
      "enter str : 'A'\n",
      "'A'  is not a vowel\n",
      "Task Over\n"
     ]
    }
   ],
   "source": [
    "# wap given character is vowel or not \n",
    "vowel_list =['a','e','i','o','u','A','E','I','O','U']\n",
    "char = input(\"enter str : \")\n",
    "if(char in vowel_list):\n",
    "    print(char,\" is vowel\")\n",
    "else:\n",
    "    print(char,\" is not a vowel\")\n",
    "print(\"Task Over\")\n",
    "    \n"
   ]
  },
  {
   "cell_type": "code",
   "execution_count": 5,
   "metadata": {},
   "outputs": [
    {
     "name": "stdout",
     "output_type": "stream",
     "text": [
      "enter str : A\n",
      "A  is vowel\n",
      "Task Over\n"
     ]
    }
   ],
   "source": [
    "# wap given character is vowel or not \n",
    "vowel_list =['a','e','i','o','u','A','E','I','O','U']\n",
    "char = input(\"enter str : \")\n",
    "if(char in vowel_list):\n",
    "    print(char,\" is vowel\")\n",
    "else:\n",
    "    print(char,\" is not a vowel\")\n",
    "print(\"Task Over\")\n",
    "    \n"
   ]
  },
  {
   "cell_type": "code",
   "execution_count": 6,
   "metadata": {},
   "outputs": [
    {
     "name": "stdout",
     "output_type": "stream",
     "text": [
      "enter percentage : 56\n",
      "You Got B Grade\n"
     ]
    }
   ],
   "source": [
    "# elif ladder\n",
    "\n",
    "# wap for student grading system\n",
    "# 70 >=  ====> Distinction \n",
    "# 60 >=  ====> A\n",
    "# 50 >=  ====> B\n",
    "# 40 >=  ====> C\n",
    "# 35 >=  ====> D\n",
    "# 35 <   ====> Failed\n",
    "\n",
    "per = input(\"enter percentage : \")\n",
    "per = float(per)\n",
    "if(per >= 70):\n",
    "    print(\"You Got Distinction\")\n",
    "elif(per >= 60):\n",
    "    print(\"You Got A grade\")\n",
    "elif(per >= 50):\n",
    "    print(\"You Got B Grade\")\n",
    "elif(per >= 40):\n",
    "    print(\"You Got C Grade\")\n",
    "elif(per >= 35):\n",
    "    print(\"You Got D Grade\")\n",
    "else:\n",
    "    print(\"You Failed , Better Luck Next time \")"
   ]
  },
  {
   "cell_type": "code",
   "execution_count": 1,
   "metadata": {},
   "outputs": [
    {
     "name": "stdout",
     "output_type": "stream",
     "text": [
      "enter a : 12\n",
      "enter b : 45\n",
      "enter c : 90\n",
      "big :  90.0\n"
     ]
    }
   ],
   "source": [
    "#nested if \n",
    "'''\n",
    "if block which contains another if block\n",
    "'''\n",
    "# wap find the biggest number from threee numbers\n",
    "a = float(input(\"enter a : \")) \n",
    "b = float(input(\"enter b : \"))\n",
    "c = float(input(\"enter c : \"))\n",
    "if(a < b ):\n",
    "    big = b\n",
    "else :\n",
    "    big = a\n",
    "    \n",
    "if(big < c):\n",
    "    big = c\n",
    "print(\"big : \",big) "
   ]
  },
  {
   "cell_type": "code",
   "execution_count": 2,
   "metadata": {},
   "outputs": [
    {
     "name": "stdout",
     "output_type": "stream",
     "text": [
      "enter a : 12\n",
      "enter b : 56\n",
      "enter c : 90\n",
      "big is c:  90.0\n"
     ]
    }
   ],
   "source": [
    "# wap find the biggest number from threee numbers\n",
    "a = float(input(\"enter a : \")) \n",
    "b = float(input(\"enter b : \"))\n",
    "c = float(input(\"enter c : \"))\n",
    "if(a < b ):\n",
    "    if(b < c):\n",
    "        print(\"big is c: \",c)\n",
    "    else:\n",
    "        print(\"big is b \",b)\n",
    "    \n",
    "else :\n",
    "    if(a < c):\n",
    "        print(\"big is c: \",c)\n",
    "    else:\n",
    "        print(\"big is a \",a)\n"
   ]
  },
  {
   "cell_type": "code",
   "execution_count": 3,
   "metadata": {},
   "outputs": [
    {
     "name": "stdout",
     "output_type": "stream",
     "text": [
      "enter a : 34\n",
      "enter b : 89\n",
      "enter c : 456\n",
      "big :  456.0\n"
     ]
    }
   ],
   "source": [
    "# wap find the biggest number from threee numbers\n",
    "a = float(input(\"enter a : \")) \n",
    "b = float(input(\"enter b : \"))\n",
    "c = float(input(\"enter c : \"))\n",
    "if(a < b ):\n",
    "    big = b\n",
    "    if(big < c):\n",
    "        big = c\n",
    "    \n",
    "else :\n",
    "    big = a\n",
    "    if(big < c):\n",
    "        big = c\n",
    "print(\"big : \",big)"
   ]
  },
  {
   "cell_type": "code",
   "execution_count": null,
   "metadata": {},
   "outputs": [],
   "source": [
    "# wap find the given year has leap year or not\n",
    "# 1900 -->not leap year\n",
    "# 2000 --> leap year\n",
    "# 2012 --> leap year\n",
    "# 2001 --> not leap year"
   ]
  }
 ],
 "metadata": {
  "kernelspec": {
   "display_name": "Python 3",
   "language": "python",
   "name": "python3"
  },
  "language_info": {
   "codemirror_mode": {
    "name": "ipython",
    "version": 3
   },
   "file_extension": ".py",
   "mimetype": "text/x-python",
   "name": "python",
   "nbconvert_exporter": "python",
   "pygments_lexer": "ipython3",
   "version": "3.8.3"
  }
 },
 "nbformat": 4,
 "nbformat_minor": 4
}
