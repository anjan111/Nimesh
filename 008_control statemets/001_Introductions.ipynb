{
 "cells": [
  {
   "cell_type": "markdown",
   "metadata": {},
   "source": [
    "# statement\n",
    "\n",
    "===>>> An instruction which can be executable \n",
    "\n",
    "# Program\n",
    "\n",
    "==>> Collection of statement to do any one specific task\n",
    "\n",
    "# Flow of Execution\n",
    "\n",
    "==>> Statement  by statement  / Statement after statement\n",
    "\n",
    "# Control Statement\n",
    "\n",
    "===>> Are used for to change the flow of execution of the program\n",
    "\n",
    "\n",
    "1.  Conditional Statements\n",
    "\n",
    "2.  Looping Statements\n",
    "\n",
    "3.  Control Keywords\n",
    "\n",
    "\n",
    "### Conditional Statement\n",
    "\n",
    "====>> The statements execution can depends on condition\n",
    "\n",
    "1. Simple  if\n",
    "\n",
    "2. if & else\n",
    "\n",
    "3. Elif Ladder\n",
    "\n",
    "4. Nested if"
   ]
  }
 ],
 "metadata": {
  "kernelspec": {
   "display_name": "Python 3",
   "language": "python",
   "name": "python3"
  },
  "language_info": {
   "codemirror_mode": {
    "name": "ipython",
    "version": 3
   },
   "file_extension": ".py",
   "mimetype": "text/x-python",
   "name": "python",
   "nbconvert_exporter": "python",
   "pygments_lexer": "ipython3",
   "version": "3.8.3"
  }
 },
 "nbformat": 4,
 "nbformat_minor": 4
}
