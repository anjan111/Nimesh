{
 "cells": [
  {
   "cell_type": "code",
   "execution_count": 2,
   "metadata": {},
   "outputs": [
    {
     "name": "stdout",
     "output_type": "stream",
     "text": [
      "name : Kapil\n",
      "DOB  : 25-04-2005\n",
      "Phone: +983847474\n",
      "mail : fjfdfh@gmail.com\n",
      "******************\n",
      "name : Kapil\n",
      "DOB  : 25-04-2005\n",
      "Phone: +983847474\n",
      "mail : fjfdfh@gmail.com\n",
      "******************\n",
      "name : Kapil\n",
      "DOB  : 25-04-2005\n",
      "Phone: +983847474\n",
      "mail : fjfdfh@gmail.com\n",
      "******************\n",
      "name : Kapil\n",
      "DOB  : 25-04-2005\n",
      "Phone: +983847474\n",
      "mail : fjfdfh@gmail.com\n",
      "******************\n",
      "name : Kapil\n",
      "DOB  : 25-04-2005\n",
      "Phone: +983847474\n",
      "mail : fjfdfh@gmail.com\n",
      "******************\n",
      "name : Kapil\n",
      "DOB  : 25-04-2005\n",
      "Phone: +983847474\n",
      "mail : fjfdfh@gmail.com\n",
      "******************\n",
      "name : Kapil\n",
      "DOB  : 25-04-2005\n",
      "Phone: +983847474\n",
      "mail : fjfdfh@gmail.com\n",
      "******************\n",
      "name : Kapil\n",
      "DOB  : 25-04-2005\n",
      "Phone: +983847474\n",
      "mail : fjfdfh@gmail.com\n",
      "******************\n",
      "name : Kapil\n",
      "DOB  : 25-04-2005\n",
      "Phone: +983847474\n",
      "mail : fjfdfh@gmail.com\n",
      "******************\n",
      "name : Kapil\n",
      "DOB  : 25-04-2005\n",
      "Phone: +983847474\n",
      "mail : fjfdfh@gmail.com\n"
     ]
    }
   ],
   "source": [
    "#wap print your details 10 times \" name , DOB , mail phone\"\n",
    "print(\"name : Kapil\")\n",
    "print(\"DOB  : 25-04-2005\")\n",
    "print(\"Phone: +983847474\")\n",
    "print(\"mail : fjfdfh@gmail.com\")\n",
    "print(\"******************\")\n",
    "print(\"name : Kapil\")\n",
    "print(\"DOB  : 25-04-2005\")\n",
    "print(\"Phone: +983847474\")\n",
    "print(\"mail : fjfdfh@gmail.com\")\n",
    "print(\"******************\")\n",
    "print(\"name : Kapil\")\n",
    "print(\"DOB  : 25-04-2005\")\n",
    "print(\"Phone: +983847474\")\n",
    "print(\"mail : fjfdfh@gmail.com\")\n",
    "print(\"******************\")\n",
    "print(\"name : Kapil\")\n",
    "print(\"DOB  : 25-04-2005\")\n",
    "print(\"Phone: +983847474\")\n",
    "print(\"mail : fjfdfh@gmail.com\")\n",
    "print(\"******************\")\n",
    "print(\"name : Kapil\")\n",
    "print(\"DOB  : 25-04-2005\")\n",
    "print(\"Phone: +983847474\")\n",
    "print(\"mail : fjfdfh@gmail.com\")\n",
    "print(\"******************\")\n",
    "print(\"name : Kapil\")\n",
    "print(\"DOB  : 25-04-2005\")\n",
    "print(\"Phone: +983847474\")\n",
    "print(\"mail : fjfdfh@gmail.com\")\n",
    "print(\"******************\")\n",
    "print(\"name : Kapil\")\n",
    "print(\"DOB  : 25-04-2005\")\n",
    "print(\"Phone: +983847474\")\n",
    "print(\"mail : fjfdfh@gmail.com\")\n",
    "print(\"******************\")\n",
    "print(\"name : Kapil\")\n",
    "print(\"DOB  : 25-04-2005\")\n",
    "print(\"Phone: +983847474\")\n",
    "print(\"mail : fjfdfh@gmail.com\")\n",
    "print(\"******************\")\n",
    "print(\"name : Kapil\")\n",
    "print(\"DOB  : 25-04-2005\")\n",
    "print(\"Phone: +983847474\")\n",
    "print(\"mail : fjfdfh@gmail.com\")\n",
    "print(\"******************\")\n",
    "print(\"name : Kapil\")\n",
    "print(\"DOB  : 25-04-2005\")\n",
    "print(\"Phone: +983847474\")\n",
    "print(\"mail : fjfdfh@gmail.com\")"
   ]
  },
  {
   "cell_type": "code",
   "execution_count": 5,
   "metadata": {},
   "outputs": [
    {
     "name": "stdout",
     "output_type": "stream",
     "text": [
      "******************\n",
      "name : Kapil\n",
      "DOB  : 25-04-2005\n",
      "Phone: +983847474\n",
      "mail : fjfdfh@gmail.com\n",
      "******************\n",
      "name : Kapil\n",
      "DOB  : 25-04-2005\n",
      "Phone: +983847474\n",
      "mail : fjfdfh@gmail.com\n",
      "******************\n",
      "name : Kapil\n",
      "DOB  : 25-04-2005\n",
      "Phone: +983847474\n",
      "mail : fjfdfh@gmail.com\n",
      "******************\n",
      "name : Kapil\n",
      "DOB  : 25-04-2005\n",
      "Phone: +983847474\n",
      "mail : fjfdfh@gmail.com\n",
      "******************\n",
      "name : Kapil\n",
      "DOB  : 25-04-2005\n",
      "Phone: +983847474\n",
      "mail : fjfdfh@gmail.com\n",
      "******************\n",
      "name : Kapil\n",
      "DOB  : 25-04-2005\n",
      "Phone: +983847474\n",
      "mail : fjfdfh@gmail.com\n",
      "******************\n",
      "name : Kapil\n",
      "DOB  : 25-04-2005\n",
      "Phone: +983847474\n",
      "mail : fjfdfh@gmail.com\n",
      "******************\n",
      "name : Kapil\n",
      "DOB  : 25-04-2005\n",
      "Phone: +983847474\n",
      "mail : fjfdfh@gmail.com\n",
      "******************\n",
      "name : Kapil\n",
      "DOB  : 25-04-2005\n",
      "Phone: +983847474\n",
      "mail : fjfdfh@gmail.com\n",
      "******************\n",
      "name : Kapil\n",
      "DOB  : 25-04-2005\n",
      "Phone: +983847474\n",
      "mail : fjfdfh@gmail.com\n"
     ]
    }
   ],
   "source": [
    "i =  1\n",
    "while(i <= 10):\n",
    "    print(\"******************\")\n",
    "    print(\"name : Kapil\")\n",
    "    print(\"DOB  : 25-04-2005\")\n",
    "    print(\"Phone: +983847474\")\n",
    "    print(\"mail : fjfdfh@gmail.com\")\n",
    "    i = i+1"
   ]
  },
  {
   "cell_type": "code",
   "execution_count": 1,
   "metadata": {},
   "outputs": [
    {
     "name": "stdout",
     "output_type": "stream",
     "text": [
      "1\n",
      "2\n",
      "3\n",
      "4\n",
      "5\n",
      "6\n",
      "7\n",
      "8\n",
      "9\n",
      "10\n",
      "while condition is failed\n"
     ]
    }
   ],
   "source": [
    "# In python we have two looping statements\n",
    "\n",
    "# 1. while\n",
    "\n",
    "# 2. for\n",
    "\n",
    "# while -->> untill the condition has false , the loop can executes \n",
    "\n",
    "# while syntax\n",
    "'''\n",
    "start\n",
    "-----\n",
    "-----\n",
    "while(condition):\n",
    "    Task\n",
    "    ----\n",
    "    ----\n",
    "else:\n",
    "    Task\n",
    "    ----\n",
    "    ----\n",
    "stop\n",
    "----\n",
    "----\n",
    "'''\n",
    "# wap print 1 to 10\n",
    "i = 1 # start\n",
    "while(i <= 10):\n",
    "    print(i)\n",
    "    i = i+1\n",
    "else:\n",
    "    print(\"while condition is failed\")"
   ]
  },
  {
   "cell_type": "code",
   "execution_count": 2,
   "metadata": {},
   "outputs": [
    {
     "name": "stdout",
     "output_type": "stream",
     "text": [
      "enter N : 5\n",
      "5   *   1   =   5\n",
      "5   *   2   =   10\n",
      "5   *   3   =   15\n",
      "5   *   4   =   20\n",
      "5   *   5   =   25\n",
      "5   *   6   =   30\n",
      "5   *   7   =   35\n",
      "5   *   8   =   40\n",
      "5   *   9   =   45\n",
      "5   *   10   =   50\n"
     ]
    }
   ],
   "source": [
    "#wap print multiplication table\n",
    "# 5\n",
    "'''\n",
    "5  *  1   =  5\n",
    "5  *  2   =  10\n",
    "5  *  3   =  15\n",
    "-----\n",
    "-----\n",
    "5 *   10  =  50\n",
    "'''\n",
    "N = int(input(\"enter N : \"))  #\n",
    "i = 1\n",
    "while(i <= 10):\n",
    "    print(N,\"  *  \",i,\"  =  \",N*i)\n",
    "    i = i +1"
   ]
  },
  {
   "cell_type": "code",
   "execution_count": 3,
   "metadata": {},
   "outputs": [
    {
     "name": "stdout",
     "output_type": "stream",
     "text": [
      "enter N  : 10\n",
      "sum :  55\n"
     ]
    }
   ],
   "source": [
    "# wap sum of 1st N natural number\n",
    "# 10  ==> 1+2+3+4+5+6+7+8+9+10\n",
    "N = int(input(\"enter N  : \"))\n",
    "sum = 0 \n",
    "i = 1\n",
    "while(i <= N ):\n",
    "    sum = sum +i\n",
    "    i = i + 1\n",
    "else:\n",
    "    print(\"sum : \",sum)"
   ]
  },
  {
   "cell_type": "code",
   "execution_count": null,
   "metadata": {},
   "outputs": [],
   "source": [
    "# wap for factorial of a number\n",
    "# 5 ==> 1*2*3*4*5 ==> 120"
   ]
  },
  {
   "cell_type": "code",
   "execution_count": 5,
   "metadata": {},
   "outputs": [
    {
     "name": "stdout",
     "output_type": "stream",
     "text": [
      "enter N : 10\n",
      "0     1     1     2     3     5     8     13     21     34     "
     ]
    }
   ],
   "source": [
    "# wap fibonic series of 10 elements\n",
    "# 0   1    1    2      3      5     8   13     21   34\n",
    "\n",
    "N = int(input(\"enter N : \"))\n",
    "a = 0\n",
    "b = 1\n",
    "i = 1\n",
    "while(i <= N):\n",
    "    print(a, end  = \"     \")\n",
    "    next1 = a+b\n",
    "    a = b\n",
    "    b = next1\n",
    "    i = i +1"
   ]
  },
  {
   "cell_type": "code",
   "execution_count": 1,
   "metadata": {},
   "outputs": [
    {
     "name": "stdout",
     "output_type": "stream",
     "text": [
      "12\n",
      "9.23\n",
      "(5+3j)\n",
      "True\n",
      "soc\n",
      "No More Updates\n"
     ]
    }
   ],
   "source": [
    "# for loop\n",
    "'''\n",
    "for var in seq:\n",
    "    Task\n",
    "    ----\n",
    "    ----\n",
    "else:\n",
    "    task\n",
    "    -----\n",
    "    -----\n",
    "'''\n",
    "# wap for print the list elements\n",
    "seq_list = [12 ,9.23 ,5+3j ,True,\"soc\"]\n",
    "for ele in seq_list:\n",
    "    print(ele)\n",
    "else:\n",
    "    print(\"No More Updates\")"
   ]
  },
  {
   "cell_type": "code",
   "execution_count": 2,
   "metadata": {
    "scrolled": true
   },
   "outputs": [
    {
     "name": "stdout",
     "output_type": "stream",
     "text": [
      "even :  12\n",
      "even :  90\n",
      "even :  88\n",
      "even :  100\n"
     ]
    }
   ],
   "source": [
    "# wap print only even elements from tuple\n",
    "seq_tuple = (12,90,23,88,21,67,100)\n",
    "for var in seq_tuple:\n",
    "    if(var % 2 == 0):\n",
    "        print(\"even : \",var)"
   ]
  },
  {
   "cell_type": "code",
   "execution_count": 3,
   "metadata": {},
   "outputs": [
    {
     "name": "stdout",
     "output_type": "stream",
     "text": [
      "enter N : 5\n",
      "fact =  120\n"
     ]
    }
   ],
   "source": [
    "# wap find the factorial of numbers\n",
    "# 5 --> 1*2*3*4*5\n",
    "N = input(\"enter N : \")\n",
    "N = int(N)\n",
    "fact = 1\n",
    "for i  in range(1,N+1):\n",
    "    fact = fact * i\n",
    "else:\n",
    "    print(\"fact = \",fact)"
   ]
  },
  {
   "cell_type": "code",
   "execution_count": 4,
   "metadata": {},
   "outputs": [
    {
     "name": "stdout",
     "output_type": "stream",
     "text": [
      "enter N : 10\n",
      "1   2   5   10   \n",
      "No of factors :  4\n",
      "sum of factors  :  18\n"
     ]
    }
   ],
   "source": [
    "# wap find the factors of a number and sum of it \n",
    "# 10 ==> 1     2    5    10   ==>> 4\n",
    "N = int(input(\"enter N : \"))\n",
    "sum1 = 0\n",
    "count = 0\n",
    "for e  in range(1,N+1):\n",
    "    if(N % e == 0):\n",
    "        print(e,end = \"   \")\n",
    "        count += 1\n",
    "        sum1  += e\n",
    "else:\n",
    "    print(\"\\nNo of factors : \",count)\n",
    "    print(\"sum of factors  : \",sum1)"
   ]
  },
  {
   "cell_type": "code",
   "execution_count": null,
   "metadata": {},
   "outputs": [],
   "source": [
    "# wap print the 10 fibonic elements with help of for loop\n",
    "\n",
    "# wap print the given number is prime or not \n",
    "\n",
    "# wap find the revesre of a number"
   ]
  },
  {
   "cell_type": "code",
   "execution_count": 1,
   "metadata": {},
   "outputs": [
    {
     "ename": "SyntaxError",
     "evalue": "unexpected EOF while parsing (<ipython-input-1-4a539cf2ab24>, line 6)",
     "output_type": "error",
     "traceback": [
      "\u001b[1;36m  File \u001b[1;32m\"<ipython-input-1-4a539cf2ab24>\"\u001b[1;36m, line \u001b[1;32m6\u001b[0m\n\u001b[1;33m    \u001b[0m\n\u001b[1;37m    ^\u001b[0m\n\u001b[1;31mSyntaxError\u001b[0m\u001b[1;31m:\u001b[0m unexpected EOF while parsing\n"
     ]
    }
   ],
   "source": [
    "#control keyword\n",
    "# pass --->>> empty block\n",
    "# continue\n",
    "# break\n",
    "if(True):\n",
    "    "
   ]
  },
  {
   "cell_type": "code",
   "execution_count": 2,
   "metadata": {},
   "outputs": [],
   "source": [
    "if(True):\n",
    "    pass"
   ]
  },
  {
   "cell_type": "code",
   "execution_count": 6,
   "metadata": {},
   "outputs": [
    {
     "name": "stdout",
     "output_type": "stream",
     "text": [
      "hello\n",
      "hello\n",
      "hello\n",
      "hello\n",
      "hello\n",
      "hello\n",
      "hello\n",
      "hello\n",
      "hello\n",
      "hello\n"
     ]
    }
   ],
   "source": [
    "#wap print hello 10 time  for each print statement excute with some delay\n",
    "for var in range(10):\n",
    "    print(\"hello\")\n",
    "    for i in range(100000000):\n",
    "        pass"
   ]
  },
  {
   "cell_type": "code",
   "execution_count": 11,
   "metadata": {},
   "outputs": [
    {
     "name": "stdout",
     "output_type": "stream",
     "text": [
      "1\n",
      "2\n",
      "3\n",
      "4\n",
      "6\n",
      "8\n",
      "9\n",
      "10\n"
     ]
    }
   ],
   "source": [
    "# continue --->> skip the present iteration and continue the next iteration\n",
    "# wap print 1 to except  except  5\n",
    "for  var in range(1,11):\n",
    "    if(var == 5 or var == 7):\n",
    "        continue\n",
    "    print(var)"
   ]
  },
  {
   "cell_type": "code",
   "execution_count": 12,
   "metadata": {},
   "outputs": [
    {
     "name": "stdout",
     "output_type": "stream",
     "text": [
      "1\n",
      "2\n",
      "3\n",
      "4\n"
     ]
    }
   ],
   "source": [
    "# break --> to terminate the loop\n",
    "# wap print 1 to 10 but stop the execution when its 5\n",
    "for var in range(1,11):\n",
    "    if(var == 5):\n",
    "        break\n",
    "    print(var)"
   ]
  },
  {
   "cell_type": "code",
   "execution_count": 14,
   "metadata": {},
   "outputs": [
    {
     "name": "stdout",
     "output_type": "stream",
     "text": [
      "enter N : 3467\n",
      "3467  reverse :  7643\n"
     ]
    }
   ],
   "source": [
    "# reverse of a number\n",
    "N = int(input(\"enter N : \"))\n",
    "temp = N\n",
    "prev = 0\n",
    "while(temp != 0 ):\n",
    "    rem =  int(temp % 10)\n",
    "    prev = prev * 10 + rem\n",
    "    temp = int(temp // 10)\n",
    "    rev  = prev\n",
    "else:\n",
    "    print(N,\" reverse : \",rev)\n",
    "    "
   ]
  },
  {
   "cell_type": "code",
   "execution_count": null,
   "metadata": {},
   "outputs": [],
   "source": []
  }
 ],
 "metadata": {
  "kernelspec": {
   "display_name": "Python 3",
   "language": "python",
   "name": "python3"
  },
  "language_info": {
   "codemirror_mode": {
    "name": "ipython",
    "version": 3
   },
   "file_extension": ".py",
   "mimetype": "text/x-python",
   "name": "python",
   "nbconvert_exporter": "python",
   "pygments_lexer": "ipython3",
   "version": "3.8.3"
  }
 },
 "nbformat": 4,
 "nbformat_minor": 4
}
