{
 "cells": [
  {
   "cell_type": "code",
   "execution_count": 2,
   "metadata": {},
   "outputs": [
    {
     "name": "stdout",
     "output_type": "stream",
     "text": [
      "name : Kapil\n",
      "DOB  : 25-04-2005\n",
      "Phone: +983847474\n",
      "mail : fjfdfh@gmail.com\n",
      "******************\n",
      "name : Kapil\n",
      "DOB  : 25-04-2005\n",
      "Phone: +983847474\n",
      "mail : fjfdfh@gmail.com\n",
      "******************\n",
      "name : Kapil\n",
      "DOB  : 25-04-2005\n",
      "Phone: +983847474\n",
      "mail : fjfdfh@gmail.com\n",
      "******************\n",
      "name : Kapil\n",
      "DOB  : 25-04-2005\n",
      "Phone: +983847474\n",
      "mail : fjfdfh@gmail.com\n",
      "******************\n",
      "name : Kapil\n",
      "DOB  : 25-04-2005\n",
      "Phone: +983847474\n",
      "mail : fjfdfh@gmail.com\n",
      "******************\n",
      "name : Kapil\n",
      "DOB  : 25-04-2005\n",
      "Phone: +983847474\n",
      "mail : fjfdfh@gmail.com\n",
      "******************\n",
      "name : Kapil\n",
      "DOB  : 25-04-2005\n",
      "Phone: +983847474\n",
      "mail : fjfdfh@gmail.com\n",
      "******************\n",
      "name : Kapil\n",
      "DOB  : 25-04-2005\n",
      "Phone: +983847474\n",
      "mail : fjfdfh@gmail.com\n",
      "******************\n",
      "name : Kapil\n",
      "DOB  : 25-04-2005\n",
      "Phone: +983847474\n",
      "mail : fjfdfh@gmail.com\n",
      "******************\n",
      "name : Kapil\n",
      "DOB  : 25-04-2005\n",
      "Phone: +983847474\n",
      "mail : fjfdfh@gmail.com\n"
     ]
    }
   ],
   "source": [
    "#wap print your details 10 times \" name , DOB , mail phone\"\n",
    "print(\"name : Kapil\")\n",
    "print(\"DOB  : 25-04-2005\")\n",
    "print(\"Phone: +983847474\")\n",
    "print(\"mail : fjfdfh@gmail.com\")\n",
    "print(\"******************\")\n",
    "print(\"name : Kapil\")\n",
    "print(\"DOB  : 25-04-2005\")\n",
    "print(\"Phone: +983847474\")\n",
    "print(\"mail : fjfdfh@gmail.com\")\n",
    "print(\"******************\")\n",
    "print(\"name : Kapil\")\n",
    "print(\"DOB  : 25-04-2005\")\n",
    "print(\"Phone: +983847474\")\n",
    "print(\"mail : fjfdfh@gmail.com\")\n",
    "print(\"******************\")\n",
    "print(\"name : Kapil\")\n",
    "print(\"DOB  : 25-04-2005\")\n",
    "print(\"Phone: +983847474\")\n",
    "print(\"mail : fjfdfh@gmail.com\")\n",
    "print(\"******************\")\n",
    "print(\"name : Kapil\")\n",
    "print(\"DOB  : 25-04-2005\")\n",
    "print(\"Phone: +983847474\")\n",
    "print(\"mail : fjfdfh@gmail.com\")\n",
    "print(\"******************\")\n",
    "print(\"name : Kapil\")\n",
    "print(\"DOB  : 25-04-2005\")\n",
    "print(\"Phone: +983847474\")\n",
    "print(\"mail : fjfdfh@gmail.com\")\n",
    "print(\"******************\")\n",
    "print(\"name : Kapil\")\n",
    "print(\"DOB  : 25-04-2005\")\n",
    "print(\"Phone: +983847474\")\n",
    "print(\"mail : fjfdfh@gmail.com\")\n",
    "print(\"******************\")\n",
    "print(\"name : Kapil\")\n",
    "print(\"DOB  : 25-04-2005\")\n",
    "print(\"Phone: +983847474\")\n",
    "print(\"mail : fjfdfh@gmail.com\")\n",
    "print(\"******************\")\n",
    "print(\"name : Kapil\")\n",
    "print(\"DOB  : 25-04-2005\")\n",
    "print(\"Phone: +983847474\")\n",
    "print(\"mail : fjfdfh@gmail.com\")\n",
    "print(\"******************\")\n",
    "print(\"name : Kapil\")\n",
    "print(\"DOB  : 25-04-2005\")\n",
    "print(\"Phone: +983847474\")\n",
    "print(\"mail : fjfdfh@gmail.com\")"
   ]
  },
  {
   "cell_type": "code",
   "execution_count": 5,
   "metadata": {},
   "outputs": [
    {
     "name": "stdout",
     "output_type": "stream",
     "text": [
      "******************\n",
      "name : Kapil\n",
      "DOB  : 25-04-2005\n",
      "Phone: +983847474\n",
      "mail : fjfdfh@gmail.com\n",
      "******************\n",
      "name : Kapil\n",
      "DOB  : 25-04-2005\n",
      "Phone: +983847474\n",
      "mail : fjfdfh@gmail.com\n",
      "******************\n",
      "name : Kapil\n",
      "DOB  : 25-04-2005\n",
      "Phone: +983847474\n",
      "mail : fjfdfh@gmail.com\n",
      "******************\n",
      "name : Kapil\n",
      "DOB  : 25-04-2005\n",
      "Phone: +983847474\n",
      "mail : fjfdfh@gmail.com\n",
      "******************\n",
      "name : Kapil\n",
      "DOB  : 25-04-2005\n",
      "Phone: +983847474\n",
      "mail : fjfdfh@gmail.com\n",
      "******************\n",
      "name : Kapil\n",
      "DOB  : 25-04-2005\n",
      "Phone: +983847474\n",
      "mail : fjfdfh@gmail.com\n",
      "******************\n",
      "name : Kapil\n",
      "DOB  : 25-04-2005\n",
      "Phone: +983847474\n",
      "mail : fjfdfh@gmail.com\n",
      "******************\n",
      "name : Kapil\n",
      "DOB  : 25-04-2005\n",
      "Phone: +983847474\n",
      "mail : fjfdfh@gmail.com\n",
      "******************\n",
      "name : Kapil\n",
      "DOB  : 25-04-2005\n",
      "Phone: +983847474\n",
      "mail : fjfdfh@gmail.com\n",
      "******************\n",
      "name : Kapil\n",
      "DOB  : 25-04-2005\n",
      "Phone: +983847474\n",
      "mail : fjfdfh@gmail.com\n"
     ]
    }
   ],
   "source": [
    "i =  1\n",
    "while(i <= 10):\n",
    "    print(\"******************\")\n",
    "    print(\"name : Kapil\")\n",
    "    print(\"DOB  : 25-04-2005\")\n",
    "    print(\"Phone: +983847474\")\n",
    "    print(\"mail : fjfdfh@gmail.com\")\n",
    "    i = i+1"
   ]
  },
  {
   "cell_type": "code",
   "execution_count": 1,
   "metadata": {},
   "outputs": [
    {
     "name": "stdout",
     "output_type": "stream",
     "text": [
      "1\n",
      "2\n",
      "3\n",
      "4\n",
      "5\n",
      "6\n",
      "7\n",
      "8\n",
      "9\n",
      "10\n",
      "while condition is failed\n"
     ]
    }
   ],
   "source": [
    "# In python we have two looping statements\n",
    "\n",
    "# 1. while\n",
    "\n",
    "# 2. for\n",
    "\n",
    "# while -->> untill the condition has false , the loop can executes \n",
    "\n",
    "# while syntax\n",
    "'''\n",
    "start\n",
    "-----\n",
    "-----\n",
    "while(condition):\n",
    "    Task\n",
    "    ----\n",
    "    ----\n",
    "else:\n",
    "    Task\n",
    "    ----\n",
    "    ----\n",
    "stop\n",
    "----\n",
    "----\n",
    "'''\n",
    "# wap print 1 to 10\n",
    "i = 1 # start\n",
    "while(i <= 10):\n",
    "    print(i)\n",
    "    i = i+1\n",
    "else:\n",
    "    print(\"while condition is failed\")"
   ]
  },
  {
   "cell_type": "code",
   "execution_count": 2,
   "metadata": {},
   "outputs": [
    {
     "name": "stdout",
     "output_type": "stream",
     "text": [
      "enter N : 5\n",
      "5   *   1   =   5\n",
      "5   *   2   =   10\n",
      "5   *   3   =   15\n",
      "5   *   4   =   20\n",
      "5   *   5   =   25\n",
      "5   *   6   =   30\n",
      "5   *   7   =   35\n",
      "5   *   8   =   40\n",
      "5   *   9   =   45\n",
      "5   *   10   =   50\n"
     ]
    }
   ],
   "source": [
    "#wap print multiplication table\n",
    "# 5\n",
    "'''\n",
    "5  *  1   =  5\n",
    "5  *  2   =  10\n",
    "5  *  3   =  15\n",
    "-----\n",
    "-----\n",
    "5 *   10  =  50\n",
    "'''\n",
    "N = int(input(\"enter N : \"))  #\n",
    "i = 1\n",
    "while(i <= 10):\n",
    "    print(N,\"  *  \",i,\"  =  \",N*i)\n",
    "    i = i +1"
   ]
  },
  {
   "cell_type": "code",
   "execution_count": 3,
   "metadata": {},
   "outputs": [
    {
     "name": "stdout",
     "output_type": "stream",
     "text": [
      "enter N  : 10\n",
      "sum :  55\n"
     ]
    }
   ],
   "source": [
    "# wap sum of 1st N natural number\n",
    "# 10  ==> 1+2+3+4+5+6+7+8+9+10\n",
    "N = int(input(\"enter N  : \"))\n",
    "sum = 0 \n",
    "i = 1\n",
    "while(i <= N ):\n",
    "    sum = sum +i\n",
    "    i = i + 1\n",
    "else:\n",
    "    print(\"sum : \",sum)"
   ]
  },
  {
   "cell_type": "code",
   "execution_count": null,
   "metadata": {},
   "outputs": [],
   "source": [
    "# wap for factorial of a number\n",
    "# 5 ==> 1*2*3*4*5 ==> 120"
   ]
  },
  {
   "cell_type": "code",
   "execution_count": 5,
   "metadata": {},
   "outputs": [
    {
     "name": "stdout",
     "output_type": "stream",
     "text": [
      "enter N : 10\n",
      "0     1     1     2     3     5     8     13     21     34     "
     ]
    }
   ],
   "source": [
    "# wap fibonic series of 10 elements\n",
    "# 0   1    1    2      3      5     8   13     21   34\n",
    "\n",
    "N = int(input(\"enter N : \"))\n",
    "a = 0\n",
    "b = 1\n",
    "i = 1\n",
    "while(i <= N):\n",
    "    print(a, end  = \"     \")\n",
    "    next1 = a+b\n",
    "    a = b\n",
    "    b = next1\n",
    "    i = i +1"
   ]
  },
  {
   "cell_type": "code",
   "execution_count": null,
   "metadata": {},
   "outputs": [],
   "source": []
  }
 ],
 "metadata": {
  "kernelspec": {
   "display_name": "Python 3",
   "language": "python",
   "name": "python3"
  },
  "language_info": {
   "codemirror_mode": {
    "name": "ipython",
    "version": 3
   },
   "file_extension": ".py",
   "mimetype": "text/x-python",
   "name": "python",
   "nbconvert_exporter": "python",
   "pygments_lexer": "ipython3",
   "version": "3.8.3"
  }
 },
 "nbformat": 4,
 "nbformat_minor": 4
}
