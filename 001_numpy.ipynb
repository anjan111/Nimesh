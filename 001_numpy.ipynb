{
 "cells": [
  {
   "cell_type": "markdown",
   "metadata": {},
   "source": [
    "#### numpy\n",
    "\n",
    "==>> numarical python\n",
    "\n",
    "==>> speed & simple to use\n",
    "\n",
    "==>> Nd - array"
   ]
  },
  {
   "cell_type": "code",
   "execution_count": 1,
   "metadata": {},
   "outputs": [],
   "source": [
    "# import the numpy  \n",
    "\n",
    "import numpy"
   ]
  },
  {
   "cell_type": "markdown",
   "metadata": {},
   "source": [
    " NumPy’s main object is the homogeneous multidimensional array \n",
    " \n",
    " ==>> all elements of an array are same datatype ==> int , float"
   ]
  },
  {
   "cell_type": "code",
   "execution_count": 4,
   "metadata": {},
   "outputs": [],
   "source": [
    "# array ==> lib ===>> we can create a array with help of ==> array ==> 1D\n",
    "# numpy ==> lib ==>> we can create a array with help of ==> array  ==> ND\n",
    "import array\n",
    "import numpy"
   ]
  },
  {
   "cell_type": "code",
   "execution_count": 10,
   "metadata": {},
   "outputs": [
    {
     "name": "stdout",
     "output_type": "stream",
     "text": [
      "[12 89 45]\n",
      "1\n",
      "(3,)\n"
     ]
    }
   ],
   "source": [
    "# 1D array\n",
    "arr2 = numpy.array([12,89,45])\n",
    "#print(arr1)\n",
    "print(arr2)\n",
    "print(arr2.ndim)\n",
    "print(arr2.shape)"
   ]
  },
  {
   "cell_type": "code",
   "execution_count": 11,
   "metadata": {},
   "outputs": [
    {
     "name": "stdout",
     "output_type": "stream",
     "text": [
      "[[12 89 45]]\n",
      "2\n",
      "(1, 3)\n"
     ]
    }
   ],
   "source": [
    "# 2D array\n",
    "arr2 = numpy.array([[12,89,45]])\n",
    "#print(arr1)\n",
    "print(arr2)\n",
    "print(arr2.ndim)\n",
    "print(arr2.shape)"
   ]
  },
  {
   "cell_type": "code",
   "execution_count": 12,
   "metadata": {},
   "outputs": [
    {
     "name": "stdout",
     "output_type": "stream",
     "text": [
      "[[[12 89 45]]]\n",
      "3\n",
      "(1, 1, 3)\n"
     ]
    }
   ],
   "source": [
    "# 3D array\n",
    "arr2 = numpy.array([[[12,89,45]]])\n",
    "#print(arr1)\n",
    "print(arr2)\n",
    "print(arr2.ndim)\n",
    "print(arr2.shape)"
   ]
  },
  {
   "cell_type": "code",
   "execution_count": 13,
   "metadata": {},
   "outputs": [
    {
     "name": "stdout",
     "output_type": "stream",
     "text": [
      "[[[[12 89 45]]]]\n",
      "4\n",
      "(1, 1, 1, 3)\n"
     ]
    }
   ],
   "source": [
    "# 4D array\n",
    "arr2 = numpy.array([[[[12,89,45]]]])\n",
    "#print(arr1)\n",
    "print(arr2)\n",
    "print(arr2.ndim)\n",
    "print(arr2.shape)"
   ]
  },
  {
   "cell_type": "code",
   "execution_count": 14,
   "metadata": {},
   "outputs": [
    {
     "name": "stdout",
     "output_type": "stream",
     "text": [
      "[12 89 45]\n",
      "1\n",
      "(3,)\n",
      "3\n"
     ]
    }
   ],
   "source": [
    "# 3D array\n",
    "arr2 = numpy.array([12,89,45])\n",
    "#print(arr1)\n",
    "print(arr2)\n",
    "print(arr2.ndim)\n",
    "print(arr2.shape)\n",
    "print(arr2.size)"
   ]
  },
  {
   "cell_type": "code",
   "execution_count": 15,
   "metadata": {},
   "outputs": [
    {
     "name": "stdout",
     "output_type": "stream",
     "text": [
      "[12 89 45]\n",
      "1\n",
      "(3,)\n",
      "3\n",
      "int32\n"
     ]
    }
   ],
   "source": [
    "# 3D array\n",
    "arr2 = numpy.array([12,89,45])\n",
    "#print(arr1)\n",
    "print(arr2)\n",
    "print(arr2.ndim)\n",
    "print(arr2.shape)\n",
    "print(arr2.size)\n",
    "print(arr2.dtype)"
   ]
  },
  {
   "cell_type": "code",
   "execution_count": 16,
   "metadata": {},
   "outputs": [
    {
     "name": "stdout",
     "output_type": "stream",
     "text": [
      "[12.23 89.   45.  ]\n",
      "1\n",
      "(3,)\n",
      "3\n",
      "float64\n"
     ]
    }
   ],
   "source": [
    "# 3D array\n",
    "arr2 = numpy.array([12.23,89,45])\n",
    "#print(arr1)\n",
    "print(arr2)\n",
    "print(arr2.ndim)\n",
    "print(arr2.shape)\n",
    "print(arr2.size)\n",
    "print(arr2.dtype)"
   ]
  },
  {
   "cell_type": "code",
   "execution_count": 1,
   "metadata": {},
   "outputs": [
    {
     "name": "stdout",
     "output_type": "stream",
     "text": [
      "[[12.23 89.   45.  ]\n",
      " [ 1.    2.    3.  ]]\n",
      "2\n",
      "(2, 3)\n",
      "6\n",
      "float64\n",
      "8\n"
     ]
    }
   ],
   "source": [
    "# 1D array\n",
    "import numpy\n",
    "arr2 = numpy.array([[12.23,89,45],[1,2,3]])\n",
    "#print(arr1)\n",
    "print(arr2)\n",
    "print(arr2.ndim) # 1D\n",
    "print(arr2.shape) \n",
    "print(arr2.size)\n",
    "print(arr2.dtype)\n",
    "print(arr2.itemsize)"
   ]
  },
  {
   "cell_type": "code",
   "execution_count": 2,
   "metadata": {},
   "outputs": [
    {
     "name": "stdout",
     "output_type": "stream",
     "text": [
      "[0 1 2 3 4 5 6 7 8 9]\n",
      "[ 3  4  5  6  7  8  9 10 11 12]\n",
      "[ 3  5  7  9 11 13 15 17 19 21 23 25 27 29]\n"
     ]
    }
   ],
   "source": [
    "# arange ---> to create array with seq or AP elements\n",
    "import numpy\n",
    "print(numpy.arange(10)) # 0 to 9\n",
    "print(numpy.arange(3,13))# 3 to 12\n",
    "print(numpy.arange(3,30,2))# 3,5,7,9,11 ------29"
   ]
  },
  {
   "cell_type": "code",
   "execution_count": 5,
   "metadata": {},
   "outputs": [
    {
     "name": "stdout",
     "output_type": "stream",
     "text": [
      "[[1 2 3]\n",
      " [4 5 6]]\n",
      "(2, 3)\n",
      "**************\n",
      "[[1 2]\n",
      " [3 4]\n",
      " [5 6]]\n",
      "(3, 2)\n",
      "***********\n",
      "[[1 2]\n",
      " [3 4]\n",
      " [5 6]]\n",
      "(3, 2)\n",
      "***********\n",
      "[[1 2]\n",
      " [3 4]\n",
      " [5 6]]\n",
      "(3, 2)\n"
     ]
    }
   ],
   "source": [
    "#reshape ===>> modify the shape of the array\n",
    "\n",
    "import numpy\n",
    "a = numpy.array([[1,2,3],[4,5,6]]) # (2,3)\n",
    "print(a)\n",
    "print(a.shape)\n",
    "print(\"**************\")\n",
    "b = a.reshape(3,2)\n",
    "print(b)\n",
    "print(b.shape)\n",
    "print(\"***********\")\n",
    "c = a.reshape(3,-1)\n",
    "print(c)\n",
    "print(c.shape)\n",
    "print(\"***********\")\n",
    "d = a.reshape(-1,2)\n",
    "print(d)\n",
    "print(d.shape)"
   ]
  },
  {
   "cell_type": "code",
   "execution_count": 6,
   "metadata": {},
   "outputs": [
    {
     "name": "stdout",
     "output_type": "stream",
     "text": [
      "[[1.+0.j 2.+0.j]\n",
      " [3.+0.j 4.+0.j]]\n"
     ]
    }
   ],
   "source": [
    "import numpy as np \n",
    "c = np.array( [ [1,2], [3,4] ], dtype=complex )\n",
    "print(c)"
   ]
  },
  {
   "cell_type": "code",
   "execution_count": 9,
   "metadata": {},
   "outputs": [
    {
     "name": "stdout",
     "output_type": "stream",
     "text": [
      "[[0. 0. 0. 0. 0.]\n",
      " [0. 0. 0. 0. 0.]\n",
      " [0. 0. 0. 0. 0.]\n",
      " [0. 0. 0. 0. 0.]]\n",
      "*********\n",
      "[[1. 1. 1. 1. 1. 1.]\n",
      " [1. 1. 1. 1. 1. 1.]\n",
      " [1. 1. 1. 1. 1. 1.]\n",
      " [1. 1. 1. 1. 1. 1.]\n",
      " [1. 1. 1. 1. 1. 1.]]\n"
     ]
    }
   ],
   "source": [
    "import numpy as np\n",
    "print(np.zeros((4,5)))\n",
    "print(\"*********\")\n",
    "print(np.ones((5,6)))\n",
    "\n"
   ]
  },
  {
   "cell_type": "code",
   "execution_count": 10,
   "metadata": {},
   "outputs": [
    {
     "data": {
      "text/plain": [
       "array([[12.23, 89.  , 45.  ],\n",
       "       [ 1.  ,  2.  ,  3.  ]])"
      ]
     },
     "execution_count": 10,
     "metadata": {},
     "output_type": "execute_result"
    }
   ],
   "source": [
    "# uninitialize data\n",
    "np.empty( (2,3) )    "
   ]
  },
  {
   "cell_type": "code",
   "execution_count": 11,
   "metadata": {},
   "outputs": [
    {
     "name": "stdout",
     "output_type": "stream",
     "text": [
      "[ 4.          4.32653061  4.65306122  4.97959184  5.30612245  5.63265306\n",
      "  5.95918367  6.28571429  6.6122449   6.93877551  7.26530612  7.59183673\n",
      "  7.91836735  8.24489796  8.57142857  8.89795918  9.2244898   9.55102041\n",
      "  9.87755102 10.20408163 10.53061224 10.85714286 11.18367347 11.51020408\n",
      " 11.83673469 12.16326531 12.48979592 12.81632653 13.14285714 13.46938776\n",
      " 13.79591837 14.12244898 14.44897959 14.7755102  15.10204082 15.42857143\n",
      " 15.75510204 16.08163265 16.40816327 16.73469388 17.06122449 17.3877551\n",
      " 17.71428571 18.04081633 18.36734694 18.69387755 19.02040816 19.34693878\n",
      " 19.67346939 20.        ]\n"
     ]
    }
   ],
   "source": [
    "import numpy as np\n",
    "print(np.linspace(4,20,50))"
   ]
  },
  {
   "cell_type": "code",
   "execution_count": 1,
   "metadata": {},
   "outputs": [
    {
     "name": "stdout",
     "output_type": "stream",
     "text": [
      "[[ 8  9  7]\n",
      " [ 3 10  4]]\n",
      "[[18  2 14]\n",
      " [ 9  8 12]]\n",
      "*******\n",
      "addition\n",
      "[[26 11 21]\n",
      " [12 18 16]]\n",
      "********\n",
      "subtraction\n",
      "[[-10   7  -7]\n",
      " [ -6   2  -8]]\n",
      "*********\n",
      "multiplication\n",
      "[[144  18  98]\n",
      " [ 27  80  48]]\n"
     ]
    }
   ],
   "source": [
    "# addition \n",
    "import numpy as np\n",
    "#2*3 array\n",
    "a = np.array([[8,9,7],[3,10,4]])\n",
    "b = np.array([[18,2,14],[9,8,12]])\n",
    "print(a)\n",
    "print(b)\n",
    "print(\"*******\")\n",
    "print(\"addition\")\n",
    "print(a+b)\n",
    "print(\"********\")\n",
    "print(\"subtraction\")\n",
    "print(a-b)\n",
    "print(\"*********\")\n",
    "print(\"multiplication\")\n",
    "print(a*b)"
   ]
  },
  {
   "cell_type": "code",
   "execution_count": 2,
   "metadata": {},
   "outputs": [
    {
     "name": "stdout",
     "output_type": "stream",
     "text": [
      "[[ 8  9  7]\n",
      " [ 3 10  4]]\n",
      "****\n",
      "Transpose\n",
      "[[ 8  3]\n",
      " [ 9 10]\n",
      " [ 7  4]]\n"
     ]
    }
   ],
   "source": [
    "import numpy as np\n",
    "#2*3 array\n",
    "a = np.array([[8,9,7],[3,10,4]])\n",
    "print(a)\n",
    "print(\"****\")\n",
    "print(\"Transpose\")\n",
    "print(a.T)"
   ]
  },
  {
   "cell_type": "code",
   "execution_count": 5,
   "metadata": {},
   "outputs": [
    {
     "name": "stdout",
     "output_type": "stream",
     "text": [
      "[[ 8  9  7]\n",
      " [ 2 10  4]]\n",
      "****\n",
      "2\n",
      "3\n",
      "*****\n",
      "10\n",
      "4\n"
     ]
    }
   ],
   "source": [
    "import numpy as np\n",
    "#2*3 array\n",
    "a = np.array([[8,9,7],[2,10,4]])\n",
    "print(a)\n",
    "print(\"****\")\n",
    "print(np.min(a))\n",
    "print(np.argmin(a))\n",
    "print(\"*****\")\n",
    "print(np.max(a))\n",
    "print(np.argmax(a))"
   ]
  },
  {
   "cell_type": "code",
   "execution_count": 6,
   "metadata": {},
   "outputs": [
    {
     "name": "stdout",
     "output_type": "stream",
     "text": [
      "[[0.         0.52359878 0.78539816]\n",
      " [1.57079633 1.04719755 3.14159265]]\n",
      "****\n",
      "[[0.00000000e+00 5.00000000e-01 7.07106781e-01]\n",
      " [1.00000000e+00 8.66025404e-01 1.22464680e-16]]\n"
     ]
    }
   ],
   "source": [
    "import numpy as np\n",
    "from math import pi\n",
    "#2*3 array\n",
    "a = np.array([[0,pi/6,pi/4],[pi/2,pi/3,pi]])\n",
    "print(a)\n",
    "print(\"****\")\n",
    "print(np.sin(a))"
   ]
  },
  {
   "cell_type": "code",
   "execution_count": 7,
   "metadata": {},
   "outputs": [
    {
     "name": "stdout",
     "output_type": "stream",
     "text": [
      "[[ 8  9  7]\n",
      " [ 3 10  4]]\n",
      "****\n",
      "[[ 512  729  343]\n",
      " [  27 1000   64]]\n"
     ]
    }
   ],
   "source": [
    "import numpy as np\n",
    "#2*3 array\n",
    "a = np.array([[8,9,7],[3,10,4]])\n",
    "print(a)\n",
    "print(\"****\")\n",
    "print(a ** 3)"
   ]
  },
  {
   "cell_type": "code",
   "execution_count": 8,
   "metadata": {},
   "outputs": [
    {
     "name": "stdout",
     "output_type": "stream",
     "text": [
      "[[ 8  9  7]\n",
      " [ 3 10  4]]\n",
      "****\n",
      "[[24 27 21]\n",
      " [ 9 30 12]]\n"
     ]
    }
   ],
   "source": [
    "import numpy as np\n",
    "#2*3 array\n",
    "a = np.array([[8,9,7],[3,10,4]])\n",
    "print(a)\n",
    "print(\"****\")\n",
    "print(a * 3)"
   ]
  },
  {
   "cell_type": "code",
   "execution_count": 11,
   "metadata": {},
   "outputs": [
    {
     "name": "stdout",
     "output_type": "stream",
     "text": [
      "[[ 8  9  7]\n",
      " [ 3 10  4]]\n",
      "****\n",
      "41\n",
      "[11 19 11]\n",
      "[24 17]\n"
     ]
    }
   ],
   "source": [
    "import numpy as np\n",
    "#2*3 array\n",
    "a = np.array([[8,9,7],[3,10,4]])\n",
    "print(a)\n",
    "print(\"****\")\n",
    "print(np.sum(a))\n",
    "print(np.sum(a,axis=0))\n",
    "print(np.sum(a,axis = 1))"
   ]
  },
  {
   "cell_type": "code",
   "execution_count": 12,
   "metadata": {},
   "outputs": [
    {
     "name": "stdout",
     "output_type": "stream",
     "text": [
      "****\n",
      "[[2.98095799e+03 8.10308393e+03 1.09663316e+03]\n",
      " [2.00855369e+01 2.20264658e+04 5.45981500e+01]]\n"
     ]
    },
    {
     "ename": "ValueError",
     "evalue": "shapes (2,3) and (2,3) not aligned: 3 (dim 1) != 2 (dim 0)",
     "output_type": "error",
     "traceback": [
      "\u001b[1;31m---------------------------------------------------------------------------\u001b[0m",
      "\u001b[1;31mValueError\u001b[0m                                Traceback (most recent call last)",
      "\u001b[1;32m<ipython-input-12-70356b177209>\u001b[0m in \u001b[0;36m<module>\u001b[1;34m\u001b[0m\n\u001b[0;32m      6\u001b[0m \u001b[0mprint\u001b[0m\u001b[1;33m(\u001b[0m\u001b[1;34m\"****\"\u001b[0m\u001b[1;33m)\u001b[0m\u001b[1;33m\u001b[0m\u001b[1;33m\u001b[0m\u001b[0m\n\u001b[0;32m      7\u001b[0m \u001b[0mprint\u001b[0m\u001b[1;33m(\u001b[0m\u001b[0mnp\u001b[0m\u001b[1;33m.\u001b[0m\u001b[0mexp\u001b[0m\u001b[1;33m(\u001b[0m\u001b[0ma\u001b[0m\u001b[1;33m)\u001b[0m\u001b[1;33m)\u001b[0m\u001b[1;33m\u001b[0m\u001b[1;33m\u001b[0m\u001b[0m\n\u001b[1;32m----> 8\u001b[1;33m \u001b[0mprint\u001b[0m\u001b[1;33m(\u001b[0m\u001b[0ma\u001b[0m\u001b[1;33m.\u001b[0m\u001b[0mdot\u001b[0m\u001b[1;33m(\u001b[0m\u001b[0mb\u001b[0m\u001b[1;33m)\u001b[0m\u001b[1;33m)\u001b[0m\u001b[1;33m\u001b[0m\u001b[1;33m\u001b[0m\u001b[0m\n\u001b[0m",
      "\u001b[1;31mValueError\u001b[0m: shapes (2,3) and (2,3) not aligned: 3 (dim 1) != 2 (dim 0)"
     ]
    }
   ],
   "source": [
    "import numpy as np\n",
    "#2*3 array\n",
    "a = np.array([[8,9,7],[3,10,4]])\n",
    "b = np.array([[18,2,14],[9,8,12]])\n",
    "\n",
    "print(\"****\")\n",
    "print(np.exp(a))\n",
    "print(a.dot(b))"
   ]
  },
  {
   "cell_type": "code",
   "execution_count": 13,
   "metadata": {},
   "outputs": [
    {
     "name": "stdout",
     "output_type": "stream",
     "text": [
      "(2, 3)\n",
      "(3, 2)\n",
      "****\n",
      "[[2.98095799e+03 8.10308393e+03 1.09663316e+03]\n",
      " [2.00855369e+01 2.20264658e+04 5.45981500e+01]]\n",
      "[[260 228]\n",
      " [130 155]]\n"
     ]
    }
   ],
   "source": [
    "import numpy as np\n",
    "#2*3 array\n",
    "a = np.array([[8,9,7],[3,10,4]])\n",
    "b = np.array([[18,2,14],[9,8,12]])\n",
    "b =b.T\n",
    "print(a.shape)\n",
    "print(b.shape)\n",
    "print(\"****\")\n",
    "print(np.exp(a))\n",
    "print(a.dot(b))"
   ]
  },
  {
   "cell_type": "code",
   "execution_count": 14,
   "metadata": {},
   "outputs": [
    {
     "name": "stdout",
     "output_type": "stream",
     "text": [
      "****\n",
      "[[ True False  True]\n",
      " [ True False  True]]\n"
     ]
    }
   ],
   "source": [
    "import numpy as np\n",
    "#2*3 array\n",
    "a = np.array([[8,9,7],[3,10,4]])\n",
    "b = np.array([[18,2,14],[9,8,12]])\n",
    "\n",
    "print(\"****\")\n",
    "print(a< b)"
   ]
  },
  {
   "cell_type": "code",
   "execution_count": 16,
   "metadata": {},
   "outputs": [
    {
     "name": "stdout",
     "output_type": "stream",
     "text": [
      "****\n",
      "[[ True  True  True]\n",
      " [ True  True  True]]\n",
      "False\n"
     ]
    }
   ],
   "source": [
    "import numpy as np\n",
    "#2*3 array\n",
    "a = np.array([[8,9,7],[3,10,4]])\n",
    "b = np.array([[8,9,7],[3,10,4]])\n",
    "\n",
    "print(\"****\")\n",
    "print(a == b)\n",
    "print(a is b)"
   ]
  },
  {
   "cell_type": "code",
   "execution_count": 17,
   "metadata": {},
   "outputs": [
    {
     "name": "stdout",
     "output_type": "stream",
     "text": [
      "****\n",
      "[[ True  True  True]\n",
      " [ True  True  True]]\n",
      "True\n"
     ]
    }
   ],
   "source": [
    "import numpy as np\n",
    "#2*3 array\n",
    "a = np.array([[8,9,7],[3,10,4]])\n",
    "b = a\n",
    "\n",
    "print(\"****\")\n",
    "print(a == b)\n",
    "print(a is b)"
   ]
  },
  {
   "cell_type": "code",
   "execution_count": null,
   "metadata": {},
   "outputs": [],
   "source": []
  }
 ],
 "metadata": {
  "kernelspec": {
   "display_name": "Python 3",
   "language": "python",
   "name": "python3"
  },
  "language_info": {
   "codemirror_mode": {
    "name": "ipython",
    "version": 3
   },
   "file_extension": ".py",
   "mimetype": "text/x-python",
   "name": "python",
   "nbconvert_exporter": "python",
   "pygments_lexer": "ipython3",
   "version": "3.8.3"
  }
 },
 "nbformat": 4,
 "nbformat_minor": 4
}
